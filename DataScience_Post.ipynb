{
 "cells": [
  {
   "cell_type": "markdown",
   "metadata": {},
   "source": [
    "# AirBnb - feature importance\n",
    "\n",
    "## Key Steps for the Project\n",
    "Following the CRISP-DM process.\n",
    "\n",
    "1. Picking a dataset, as mentioned on the previous page.\n",
    "2. Proposing at least three questions related to business or real-world applications of how the data could be used.\n",
    "3. Creating a Jupyter Notebook, using any associated packages to:\n",
    "    * Prepare data:\n",
    "    * Gather necessary data to answer your questions\n",
    "    * Handle categorical and missing data\n",
    "    * Provide insight into the methods you chose and why you chose them\n",
    "    * Analyze, Model, and Visualize\n",
    "    * Provide a clear connection between your business questions and how the data answers them\n",
    "4. Communicating business insights:\n",
    "    * Create a Github repository to share your code and data wrangling/modeling techniques, with a technical audience in mind\n",
    "    * Create a blog post to share your questions and insights with a non-technical audience"
   ]
  },
  {
   "cell_type": "markdown",
   "metadata": {},
   "source": [
    "## Business Understanding\n",
    "\n",
    "### Research questions\n",
    "* Which are the most relevant characteristics of an accomodation related to the availability?\n",
    "* How is the relation of the tourism appeal of the city and the renting characteristics?\n",
    "* How does the geographical regions relates to the characteristics of the offered accomodation on AirBnb?\n",
    "\n",
    "### Data Collection\n",
    "The data which is used in this project is the AirBnb data from the following cities:\n",
    "1. AustinAustin, Texas, United States\n",
    "2. Boston, Massachusetts, United States\n",
    "3. Chicago, Illinois, United States\n",
    "4. Los Angeles, California, United States\n",
    "5. Nashville, Tennessee, United States\n",
    "6. New Orleans, Louisiana, United States\n",
    "8. San Francisco, California, United States\n",
    "9. Seattle, Washington, United States\n",
    "\n",
    "The data was collected though this [link](http://insideairbnb.com/get-the-data.html).<br>\n",
    "\n",
    "For each city the data collected are:\n",
    "1. calendar\n",
    "    * listing_id\n",
    "    * date\n",
    "    * available\n",
    "    * price\n",
    "\n",
    "2. listings\n",
    "    * id\n",
    "    * listing_url\n",
    "    * scrape_id\n",
    "    * last_scraped\n",
    "    * name\n",
    "    * summary\n",
    "    * space\n",
    "    * description\n",
    "    * experiences_offered\n",
    "    * neighborhood_overview\n",
    "    * notes\n",
    "    * transit\n",
    "    * thumbnail_url\n",
    "    * medium_url\n",
    "    * picture_url\n",
    "    * xl_picture_url\n",
    "    * host_id\n",
    "    * host_url\n",
    "    * host_name\n",
    "    * host_since\n",
    "    * host_location\n",
    "    * host_about\n",
    "    * host_response_time\n",
    "    * host_response_rate\n",
    "    * host_acceptance_rate\n",
    "    * host_is_superhost\n",
    "    * host_thumbnail_url\n",
    "    * host_picture_url\n",
    "    * host_neighbourhood\n",
    "    * host_listings_count\n",
    "    * host_total_listings_count\n",
    "    * host_verifications\n",
    "    * host_has_profile_pic\n",
    "    * host_identity_verified\n",
    "    * street\n",
    "    * neighbourhood\n",
    "    * neighbourhood_cleansed\n",
    "    * neighbourhood_group_cleansed\n",
    "    * city\n",
    "    * state\n",
    "    * zipcode\n",
    "    * market\n",
    "    * smart_location\n",
    "    * country_code\n",
    "    * country\n",
    "    * latitude\n",
    "    * longitude\n",
    "    * is_location_exact\n",
    "    * property_type\n",
    "    * room_type\n",
    "    * accommodates\n",
    "    * bathrooms\n",
    "    * bedrooms\n",
    "    * beds\n",
    "    * bed_type\n",
    "    * amenities\n",
    "    * square_feet\n",
    "    * price\n",
    "    * weekly_price\n",
    "    * monthly_price\n",
    "    * security_deposit\n",
    "    * cleaning_fee\n",
    "    * guests_included\n",
    "    * extra_people\n",
    "    * minimum_nights\n",
    "    * maximum_nights\n",
    "    * calendar_updated\n",
    "    * has_availability\n",
    "    * availability_30\n",
    "    * availability_60\n",
    "    * availability_90\n",
    "    * availability_365\n",
    "    * calendar_last_scraped\n",
    "    * number_of_reviews\n",
    "    * first_review\n",
    "    * last_review\n",
    "    * review_scores_rating\n",
    "    * review_scores_accuracy\n",
    "    * review_scores_cleanliness\n",
    "    * review_scores_checkin\n",
    "    * review_scores_communication\n",
    "    * review_scores_location\n",
    "    * review_scores_value\n",
    "    * requires_license\n",
    "    * license\n",
    "    * jurisdiction_names\n",
    "    * instant_bookable\n",
    "    * cancellation_policy\n",
    "    * require_guest_profile_picture\n",
    "    * require_guest_phone_verification\n",
    "    * calculated_host_listings_count\n",
    "    * reviews_per_month\n",
    "\n",
    "3. reviews\n",
    "    * listing_id\n",
    "    * id\n",
    "    * date\n",
    "    * reviewer_id\n",
    "    * reviewer_name\n",
    "    * comments\n",
    "\n",
    "To perform the analysis further information about the cities to be analysed was gathered from [this article](https://finance.yahoo.com/news/30-most-visited-cities-u-145000465.html).<br>\n",
    "\n",
    "City|Foreign tourists in 2019|US Ranking of most visited cities\n",
    "--| -- | -- \n",
    "Austin, Texas, United States|<200.000|>30\n",
    "Boston, Massachusetts, United States|1.567.000|9\n",
    "Chicago, Illinois, United States|1.491.000|10\n",
    "Los Angeles, California, United States|4.645.000|3\n",
    "Nashville, Tennessee, United States|<200.000|>30\n",
    "New Orleans, Louisiana, United States|436.000|23\n",
    "San Francisco, California, United States|3.308.000|5\n",
    "Seattle, Washington, United States|844.000|14\n",
    "\n",
    "The idea is to analyse the influence of the tourism appeal of each city on the AirBnb's customer behavior and on the availabilty rates of the offered accomodations.\n",
    "\n"
   ]
  },
  {
   "cell_type": "markdown",
   "metadata": {},
   "source": [
    "## Importing libraries"
   ]
  },
  {
   "cell_type": "code",
   "execution_count": 1,
   "metadata": {},
   "outputs": [],
   "source": [
    "import pandas as pd\n",
    "import numpy as np\n",
    "import gzip\n",
    "from io import BytesIO\n",
    "import re\n",
    "from decimal import Decimal\n",
    "\n",
    "import seaborn as sns\n",
    "import matplotlib as plt"
   ]
  },
  {
   "cell_type": "markdown",
   "metadata": {},
   "source": [
    "## Toolkit functions"
   ]
  },
  {
   "cell_type": "code",
   "execution_count": 2,
   "metadata": {},
   "outputs": [],
   "source": [
    "def remove_nonnumeric_chars(s):\n",
    "    '''\n",
    "    INPUT:\n",
    "    s - numeric string with non-numeric charachters\n",
    "\n",
    "    OUTPUT:\n",
    "    np.float16 - numeric value before the dot\n",
    "    '''\n",
    "    return np.float64(Decimal(re.sub(r'[^\\d.]', '', s)))"
   ]
  },
  {
   "cell_type": "code",
   "execution_count": 3,
   "metadata": {},
   "outputs": [],
   "source": [
    "def create_dummy_df(df, cat_cols, dummy_na):\n",
    "    '''\n",
    "    INPUT:\n",
    "    df - pandas dataframe with categorical variables you want to dummy\n",
    "    cat_cols - list of strings that are associated with names of the categorical columns\n",
    "    dummy_na - Bool holding whether you want to dummy NA vals of categorical columns or not\n",
    "    \n",
    "    OUTPUT:\n",
    "    df - a new dataframe that has the following characteristics:\n",
    "            1. contains all columns that were not specified as categorical\n",
    "            2. removes all the original columns in cat_cols\n",
    "            3. dummy columns for each of the categorical columns in cat_cols\n",
    "            4. if dummy_na is True - it also contains dummy columns for the NaN values\n",
    "            5. Use a prefix of the column name with an underscore (_) for separating \n",
    "    '''\n",
    "    \n",
    "    cat_df_out = pd.get_dummies(df[cat_cols], prefix=cat_cols, prefix_sep='_', dummy_na=dummy_na, drop_first=True)\n",
    "    df_out     = cat_df_out.join(df.drop(cat_cols, axis=1))\n",
    "\n",
    "    return df_out"
   ]
  },
  {
   "cell_type": "code",
   "execution_count": 4,
   "metadata": {},
   "outputs": [],
   "source": [
    "def get_sequences(vector, split_val):\n",
    "    ''''\n",
    "    INPUT:\n",
    "    vector - raw serie (pd.Series)\n",
    "    split_val - reference str to split the series\n",
    "\n",
    "    OUTPUT:\n",
    "    median, mean, max, min values of the sequences found in the serie\n",
    "    '''    \n",
    "    sequences = ''.join([str(val) for val in vector]).split(split_val)\n",
    "    sequences_count = [len(val) for val in sequences]\n",
    "    sequences_cleansed = [val for val in sequences_count if val>0]\n",
    "\n",
    "    if len(sequences_cleansed) > 0:\n",
    "        return np.median(sequences_cleansed), np.mean(sequences_cleansed), np.max(sequences_cleansed), np.min(sequences_cleansed)\n",
    "    else:\n",
    "        return 0,0,0,0"
   ]
  },
  {
   "cell_type": "markdown",
   "metadata": {},
   "source": [
    "## Data Understanding\n",
    "\n",
    "### Load Data\n",
    "\n",
    "#### calendar data"
   ]
  },
  {
   "cell_type": "markdown",
   "metadata": {},
   "source": [
    "##### Load"
   ]
  },
  {
   "cell_type": "code",
   "execution_count": 5,
   "metadata": {},
   "outputs": [
    {
     "data": {
      "text/plain": [
       "20.0"
      ]
     },
     "execution_count": 5,
     "metadata": {},
     "output_type": "execute_result"
    }
   ],
   "source": [
    "np.float16('20.00')"
   ]
  },
  {
   "cell_type": "code",
   "execution_count": 6,
   "metadata": {},
   "outputs": [],
   "source": [
    "city = 'austin'\n",
    "calendar_path = f'datasets/raw/{city}/calendar.csv.gz'\n",
    "\n",
    "with gzip.open(calendar_path,'r') as f:\n",
    "    df_calendar = pd.read_csv(BytesIO(f.read()))"
   ]
  },
  {
   "cell_type": "markdown",
   "metadata": {},
   "source": [
    "##### Check head"
   ]
  },
  {
   "cell_type": "code",
   "execution_count": 7,
   "metadata": {},
   "outputs": [
    {
     "data": {
      "text/html": [
       "<div>\n",
       "<style scoped>\n",
       "    .dataframe tbody tr th:only-of-type {\n",
       "        vertical-align: middle;\n",
       "    }\n",
       "\n",
       "    .dataframe tbody tr th {\n",
       "        vertical-align: top;\n",
       "    }\n",
       "\n",
       "    .dataframe thead th {\n",
       "        text-align: right;\n",
       "    }\n",
       "</style>\n",
       "<table border=\"1\" class=\"dataframe\">\n",
       "  <thead>\n",
       "    <tr style=\"text-align: right;\">\n",
       "      <th></th>\n",
       "      <th>listing_id</th>\n",
       "      <th>date</th>\n",
       "      <th>available</th>\n",
       "      <th>price</th>\n",
       "      <th>adjusted_price</th>\n",
       "      <th>minimum_nights</th>\n",
       "      <th>maximum_nights</th>\n",
       "    </tr>\n",
       "  </thead>\n",
       "  <tbody>\n",
       "    <tr>\n",
       "      <th>0</th>\n",
       "      <td>1078</td>\n",
       "      <td>2021-12-11</td>\n",
       "      <td>f</td>\n",
       "      <td>$120.00</td>\n",
       "      <td>$120.00</td>\n",
       "      <td>1.0</td>\n",
       "      <td>1125.0</td>\n",
       "    </tr>\n",
       "    <tr>\n",
       "      <th>1</th>\n",
       "      <td>1078</td>\n",
       "      <td>2021-12-12</td>\n",
       "      <td>f</td>\n",
       "      <td>$95.00</td>\n",
       "      <td>$95.00</td>\n",
       "      <td>1.0</td>\n",
       "      <td>1125.0</td>\n",
       "    </tr>\n",
       "    <tr>\n",
       "      <th>2</th>\n",
       "      <td>1078</td>\n",
       "      <td>2021-12-13</td>\n",
       "      <td>f</td>\n",
       "      <td>$95.00</td>\n",
       "      <td>$95.00</td>\n",
       "      <td>1.0</td>\n",
       "      <td>1125.0</td>\n",
       "    </tr>\n",
       "    <tr>\n",
       "      <th>3</th>\n",
       "      <td>1078</td>\n",
       "      <td>2021-12-14</td>\n",
       "      <td>f</td>\n",
       "      <td>$95.00</td>\n",
       "      <td>$95.00</td>\n",
       "      <td>1.0</td>\n",
       "      <td>1125.0</td>\n",
       "    </tr>\n",
       "    <tr>\n",
       "      <th>4</th>\n",
       "      <td>1078</td>\n",
       "      <td>2021-12-15</td>\n",
       "      <td>f</td>\n",
       "      <td>$95.00</td>\n",
       "      <td>$95.00</td>\n",
       "      <td>1.0</td>\n",
       "      <td>1125.0</td>\n",
       "    </tr>\n",
       "  </tbody>\n",
       "</table>\n",
       "</div>"
      ],
      "text/plain": [
       "   listing_id        date available    price adjusted_price  minimum_nights  \\\n",
       "0        1078  2021-12-11         f  $120.00        $120.00             1.0   \n",
       "1        1078  2021-12-12         f   $95.00         $95.00             1.0   \n",
       "2        1078  2021-12-13         f   $95.00         $95.00             1.0   \n",
       "3        1078  2021-12-14         f   $95.00         $95.00             1.0   \n",
       "4        1078  2021-12-15         f   $95.00         $95.00             1.0   \n",
       "\n",
       "   maximum_nights  \n",
       "0          1125.0  \n",
       "1          1125.0  \n",
       "2          1125.0  \n",
       "3          1125.0  \n",
       "4          1125.0  "
      ]
     },
     "execution_count": 7,
     "metadata": {},
     "output_type": "execute_result"
    }
   ],
   "source": [
    "# show head of calendar dataframe\n",
    "df_calendar.head()"
   ]
  },
  {
   "cell_type": "markdown",
   "metadata": {},
   "source": [
    "##### Check types"
   ]
  },
  {
   "cell_type": "code",
   "execution_count": 8,
   "metadata": {},
   "outputs": [
    {
     "name": "stdout",
     "output_type": "stream",
     "text": [
      "<class 'pandas.core.frame.DataFrame'>\n",
      "RangeIndex: 4151151 entries, 0 to 4151150\n",
      "Data columns (total 7 columns):\n",
      " #   Column          Non-Null Count    Dtype  \n",
      "---  ------          --------------    -----  \n",
      " 0   listing_id      4151151 non-null  int64  \n",
      " 1   date            4151151 non-null  object \n",
      " 2   available       4151151 non-null  object \n",
      " 3   price           4151151 non-null  object \n",
      " 4   adjusted_price  4151151 non-null  object \n",
      " 5   minimum_nights  4151147 non-null  float64\n",
      " 6   maximum_nights  4151147 non-null  float64\n",
      "dtypes: float64(2), int64(1), object(4)\n",
      "memory usage: 221.7+ MB\n"
     ]
    }
   ],
   "source": [
    "df_calendar.info(show_counts=True, verbose=True)"
   ]
  },
  {
   "cell_type": "markdown",
   "metadata": {},
   "source": [
    "##### Check NaN values"
   ]
  },
  {
   "cell_type": "code",
   "execution_count": 9,
   "metadata": {},
   "outputs": [
    {
     "name": "stdout",
     "output_type": "stream",
     "text": [
      "listing_id : 0.0\n",
      "date : 0.0\n",
      "available : 0.0\n",
      "price : 0.0\n",
      "adjusted_price : 0.0\n",
      "minimum_nights : 9.635881710879705e-07\n",
      "maximum_nights : 9.635881710879705e-07\n"
     ]
    }
   ],
   "source": [
    "columns = df_calendar.columns\n",
    "for col in columns:\n",
    "    print(f'{col} : {df_calendar[col].isna().mean()}')"
   ]
  },
  {
   "cell_type": "markdown",
   "metadata": {},
   "source": [
    "Since there are proportionally just a few missing values, it is not a big deal to drop those rows"
   ]
  },
  {
   "cell_type": "code",
   "execution_count": 10,
   "metadata": {},
   "outputs": [],
   "source": [
    "df_calendar.dropna(inplace=True)"
   ]
  },
  {
   "cell_type": "markdown",
   "metadata": {},
   "source": [
    "##### Checking types"
   ]
  },
  {
   "cell_type": "markdown",
   "metadata": {},
   "source": [
    "We need to clean the \"price\" and the \"adjusted_price\" columns to transform the numeric string into numeric values"
   ]
  },
  {
   "cell_type": "code",
   "execution_count": 11,
   "metadata": {},
   "outputs": [],
   "source": [
    "# object to numeric transformation\n",
    "toNumeric_columns =  ['price','adjusted_price']\n",
    "for col in toNumeric_columns:\n",
    "    df_calendar[col] = df_calendar[col].apply(remove_nonnumeric_chars)\n",
    "\n",
    "# str to datetime transformation\n",
    "df_calendar['date'] = pd.to_datetime(df_calendar['date'])"
   ]
  },
  {
   "cell_type": "markdown",
   "metadata": {},
   "source": [
    "##### Categorical Variables"
   ]
  },
  {
   "cell_type": "code",
   "execution_count": 12,
   "metadata": {},
   "outputs": [],
   "source": [
    "cat_cols_lst = ['available']\n",
    "df_calendar = create_dummy_df(df_calendar, cat_cols_lst, dummy_na=False)"
   ]
  },
  {
   "cell_type": "markdown",
   "metadata": {},
   "source": [
    "##### Aggregating by accomodation"
   ]
  },
  {
   "cell_type": "code",
   "execution_count": 13,
   "metadata": {},
   "outputs": [],
   "source": [
    "df_calendar_agg = df_calendar.groupby('listing_id').agg({'date':['min','max'],\n",
    "                                                        'price':['min', 'max', 'mean'], \n",
    "                                                        'adjusted_price':['min', 'max', 'mean'], \n",
    "                                                        'minimum_nights':['min','max','mean'], \n",
    "                                                        'maximum_nights':['min','max'],\n",
    "                                                        'available_t':'sum'\n",
    "                                                        })"
   ]
  },
  {
   "cell_type": "code",
   "execution_count": 14,
   "metadata": {},
   "outputs": [
    {
     "data": {
      "text/html": [
       "<div>\n",
       "<style scoped>\n",
       "    .dataframe tbody tr th:only-of-type {\n",
       "        vertical-align: middle;\n",
       "    }\n",
       "\n",
       "    .dataframe tbody tr th {\n",
       "        vertical-align: top;\n",
       "    }\n",
       "\n",
       "    .dataframe thead tr th {\n",
       "        text-align: left;\n",
       "    }\n",
       "\n",
       "    .dataframe thead tr:last-of-type th {\n",
       "        text-align: right;\n",
       "    }\n",
       "</style>\n",
       "<table border=\"1\" class=\"dataframe\">\n",
       "  <thead>\n",
       "    <tr>\n",
       "      <th></th>\n",
       "      <th colspan=\"2\" halign=\"left\">date</th>\n",
       "      <th colspan=\"3\" halign=\"left\">price</th>\n",
       "      <th colspan=\"3\" halign=\"left\">adjusted_price</th>\n",
       "      <th colspan=\"3\" halign=\"left\">minimum_nights</th>\n",
       "      <th colspan=\"2\" halign=\"left\">maximum_nights</th>\n",
       "      <th>available_t</th>\n",
       "    </tr>\n",
       "    <tr>\n",
       "      <th></th>\n",
       "      <th>min</th>\n",
       "      <th>max</th>\n",
       "      <th>min</th>\n",
       "      <th>max</th>\n",
       "      <th>mean</th>\n",
       "      <th>min</th>\n",
       "      <th>max</th>\n",
       "      <th>mean</th>\n",
       "      <th>min</th>\n",
       "      <th>max</th>\n",
       "      <th>mean</th>\n",
       "      <th>min</th>\n",
       "      <th>max</th>\n",
       "      <th>sum</th>\n",
       "    </tr>\n",
       "    <tr>\n",
       "      <th>listing_id</th>\n",
       "      <th></th>\n",
       "      <th></th>\n",
       "      <th></th>\n",
       "      <th></th>\n",
       "      <th></th>\n",
       "      <th></th>\n",
       "      <th></th>\n",
       "      <th></th>\n",
       "      <th></th>\n",
       "      <th></th>\n",
       "      <th></th>\n",
       "      <th></th>\n",
       "      <th></th>\n",
       "      <th></th>\n",
       "    </tr>\n",
       "  </thead>\n",
       "  <tbody>\n",
       "    <tr>\n",
       "      <th>1078</th>\n",
       "      <td>2021-12-11</td>\n",
       "      <td>2022-12-10</td>\n",
       "      <td>95.0</td>\n",
       "      <td>120.0</td>\n",
       "      <td>102.191781</td>\n",
       "      <td>95.0</td>\n",
       "      <td>120.0</td>\n",
       "      <td>102.191781</td>\n",
       "      <td>1.0</td>\n",
       "      <td>1.0</td>\n",
       "      <td>1.0</td>\n",
       "      <td>1125.0</td>\n",
       "      <td>1125.0</td>\n",
       "      <td>0.0</td>\n",
       "    </tr>\n",
       "    <tr>\n",
       "      <th>2265</th>\n",
       "      <td>2021-12-11</td>\n",
       "      <td>2022-12-10</td>\n",
       "      <td>170.0</td>\n",
       "      <td>200.0</td>\n",
       "      <td>178.630137</td>\n",
       "      <td>170.0</td>\n",
       "      <td>200.0</td>\n",
       "      <td>178.630137</td>\n",
       "      <td>7.0</td>\n",
       "      <td>7.0</td>\n",
       "      <td>7.0</td>\n",
       "      <td>180.0</td>\n",
       "      <td>180.0</td>\n",
       "      <td>0.0</td>\n",
       "    </tr>\n",
       "    <tr>\n",
       "      <th>5245</th>\n",
       "      <td>2021-12-11</td>\n",
       "      <td>2022-12-10</td>\n",
       "      <td>100.0</td>\n",
       "      <td>150.0</td>\n",
       "      <td>114.383562</td>\n",
       "      <td>100.0</td>\n",
       "      <td>150.0</td>\n",
       "      <td>114.383562</td>\n",
       "      <td>30.0</td>\n",
       "      <td>30.0</td>\n",
       "      <td>30.0</td>\n",
       "      <td>90.0</td>\n",
       "      <td>90.0</td>\n",
       "      <td>0.0</td>\n",
       "    </tr>\n",
       "    <tr>\n",
       "      <th>5456</th>\n",
       "      <td>2021-12-11</td>\n",
       "      <td>2022-12-10</td>\n",
       "      <td>95.0</td>\n",
       "      <td>250.0</td>\n",
       "      <td>116.438356</td>\n",
       "      <td>95.0</td>\n",
       "      <td>250.0</td>\n",
       "      <td>116.438356</td>\n",
       "      <td>2.0</td>\n",
       "      <td>2.0</td>\n",
       "      <td>2.0</td>\n",
       "      <td>90.0</td>\n",
       "      <td>90.0</td>\n",
       "      <td>345.0</td>\n",
       "    </tr>\n",
       "    <tr>\n",
       "      <th>5769</th>\n",
       "      <td>2021-12-11</td>\n",
       "      <td>2022-12-10</td>\n",
       "      <td>39.0</td>\n",
       "      <td>41.0</td>\n",
       "      <td>39.682192</td>\n",
       "      <td>39.0</td>\n",
       "      <td>41.0</td>\n",
       "      <td>39.682192</td>\n",
       "      <td>1.0</td>\n",
       "      <td>1.0</td>\n",
       "      <td>1.0</td>\n",
       "      <td>14.0</td>\n",
       "      <td>14.0</td>\n",
       "      <td>0.0</td>\n",
       "    </tr>\n",
       "  </tbody>\n",
       "</table>\n",
       "</div>"
      ],
      "text/plain": [
       "                 date             price                    adjusted_price  \\\n",
       "                  min        max    min    max        mean            min   \n",
       "listing_id                                                                  \n",
       "1078       2021-12-11 2022-12-10   95.0  120.0  102.191781           95.0   \n",
       "2265       2021-12-11 2022-12-10  170.0  200.0  178.630137          170.0   \n",
       "5245       2021-12-11 2022-12-10  100.0  150.0  114.383562          100.0   \n",
       "5456       2021-12-11 2022-12-10   95.0  250.0  116.438356           95.0   \n",
       "5769       2021-12-11 2022-12-10   39.0   41.0   39.682192           39.0   \n",
       "\n",
       "                              minimum_nights             maximum_nights  \\\n",
       "              max        mean            min   max  mean            min   \n",
       "listing_id                                                                \n",
       "1078        120.0  102.191781            1.0   1.0   1.0         1125.0   \n",
       "2265        200.0  178.630137            7.0   7.0   7.0          180.0   \n",
       "5245        150.0  114.383562           30.0  30.0  30.0           90.0   \n",
       "5456        250.0  116.438356            2.0   2.0   2.0           90.0   \n",
       "5769         41.0   39.682192            1.0   1.0   1.0           14.0   \n",
       "\n",
       "                   available_t  \n",
       "               max         sum  \n",
       "listing_id                      \n",
       "1078        1125.0         0.0  \n",
       "2265         180.0         0.0  \n",
       "5245          90.0         0.0  \n",
       "5456          90.0       345.0  \n",
       "5769          14.0         0.0  "
      ]
     },
     "execution_count": 14,
     "metadata": {},
     "output_type": "execute_result"
    }
   ],
   "source": [
    "df_calendar_agg.head()"
   ]
  },
  {
   "cell_type": "markdown",
   "metadata": {},
   "source": [
    "Renaming aggregated columns"
   ]
  },
  {
   "cell_type": "code",
   "execution_count": 15,
   "metadata": {},
   "outputs": [
    {
     "data": {
      "text/html": [
       "<div>\n",
       "<style scoped>\n",
       "    .dataframe tbody tr th:only-of-type {\n",
       "        vertical-align: middle;\n",
       "    }\n",
       "\n",
       "    .dataframe tbody tr th {\n",
       "        vertical-align: top;\n",
       "    }\n",
       "\n",
       "    .dataframe thead th {\n",
       "        text-align: right;\n",
       "    }\n",
       "</style>\n",
       "<table border=\"1\" class=\"dataframe\">\n",
       "  <thead>\n",
       "    <tr style=\"text-align: right;\">\n",
       "      <th></th>\n",
       "      <th>date_min</th>\n",
       "      <th>date_max</th>\n",
       "      <th>price_min</th>\n",
       "      <th>price_max</th>\n",
       "      <th>price_mean</th>\n",
       "      <th>adjusted_price_min</th>\n",
       "      <th>adjusted_price_max</th>\n",
       "      <th>adjusted_price_mean</th>\n",
       "      <th>minimum_nights_min</th>\n",
       "      <th>minimum_nights_max</th>\n",
       "      <th>minimum_nights_mean</th>\n",
       "      <th>maximum_nights_min</th>\n",
       "      <th>maximum_nights_max</th>\n",
       "      <th>available_t_sum</th>\n",
       "    </tr>\n",
       "    <tr>\n",
       "      <th>listing_id</th>\n",
       "      <th></th>\n",
       "      <th></th>\n",
       "      <th></th>\n",
       "      <th></th>\n",
       "      <th></th>\n",
       "      <th></th>\n",
       "      <th></th>\n",
       "      <th></th>\n",
       "      <th></th>\n",
       "      <th></th>\n",
       "      <th></th>\n",
       "      <th></th>\n",
       "      <th></th>\n",
       "      <th></th>\n",
       "    </tr>\n",
       "  </thead>\n",
       "  <tbody>\n",
       "    <tr>\n",
       "      <th>1078</th>\n",
       "      <td>2021-12-11</td>\n",
       "      <td>2022-12-10</td>\n",
       "      <td>95.0</td>\n",
       "      <td>120.0</td>\n",
       "      <td>102.191781</td>\n",
       "      <td>95.0</td>\n",
       "      <td>120.0</td>\n",
       "      <td>102.191781</td>\n",
       "      <td>1.0</td>\n",
       "      <td>1.0</td>\n",
       "      <td>1.0</td>\n",
       "      <td>1125.0</td>\n",
       "      <td>1125.0</td>\n",
       "      <td>0.0</td>\n",
       "    </tr>\n",
       "    <tr>\n",
       "      <th>2265</th>\n",
       "      <td>2021-12-11</td>\n",
       "      <td>2022-12-10</td>\n",
       "      <td>170.0</td>\n",
       "      <td>200.0</td>\n",
       "      <td>178.630137</td>\n",
       "      <td>170.0</td>\n",
       "      <td>200.0</td>\n",
       "      <td>178.630137</td>\n",
       "      <td>7.0</td>\n",
       "      <td>7.0</td>\n",
       "      <td>7.0</td>\n",
       "      <td>180.0</td>\n",
       "      <td>180.0</td>\n",
       "      <td>0.0</td>\n",
       "    </tr>\n",
       "    <tr>\n",
       "      <th>5245</th>\n",
       "      <td>2021-12-11</td>\n",
       "      <td>2022-12-10</td>\n",
       "      <td>100.0</td>\n",
       "      <td>150.0</td>\n",
       "      <td>114.383562</td>\n",
       "      <td>100.0</td>\n",
       "      <td>150.0</td>\n",
       "      <td>114.383562</td>\n",
       "      <td>30.0</td>\n",
       "      <td>30.0</td>\n",
       "      <td>30.0</td>\n",
       "      <td>90.0</td>\n",
       "      <td>90.0</td>\n",
       "      <td>0.0</td>\n",
       "    </tr>\n",
       "    <tr>\n",
       "      <th>5456</th>\n",
       "      <td>2021-12-11</td>\n",
       "      <td>2022-12-10</td>\n",
       "      <td>95.0</td>\n",
       "      <td>250.0</td>\n",
       "      <td>116.438356</td>\n",
       "      <td>95.0</td>\n",
       "      <td>250.0</td>\n",
       "      <td>116.438356</td>\n",
       "      <td>2.0</td>\n",
       "      <td>2.0</td>\n",
       "      <td>2.0</td>\n",
       "      <td>90.0</td>\n",
       "      <td>90.0</td>\n",
       "      <td>345.0</td>\n",
       "    </tr>\n",
       "    <tr>\n",
       "      <th>5769</th>\n",
       "      <td>2021-12-11</td>\n",
       "      <td>2022-12-10</td>\n",
       "      <td>39.0</td>\n",
       "      <td>41.0</td>\n",
       "      <td>39.682192</td>\n",
       "      <td>39.0</td>\n",
       "      <td>41.0</td>\n",
       "      <td>39.682192</td>\n",
       "      <td>1.0</td>\n",
       "      <td>1.0</td>\n",
       "      <td>1.0</td>\n",
       "      <td>14.0</td>\n",
       "      <td>14.0</td>\n",
       "      <td>0.0</td>\n",
       "    </tr>\n",
       "  </tbody>\n",
       "</table>\n",
       "</div>"
      ],
      "text/plain": [
       "             date_min   date_max  price_min  price_max  price_mean  \\\n",
       "listing_id                                                           \n",
       "1078       2021-12-11 2022-12-10       95.0      120.0  102.191781   \n",
       "2265       2021-12-11 2022-12-10      170.0      200.0  178.630137   \n",
       "5245       2021-12-11 2022-12-10      100.0      150.0  114.383562   \n",
       "5456       2021-12-11 2022-12-10       95.0      250.0  116.438356   \n",
       "5769       2021-12-11 2022-12-10       39.0       41.0   39.682192   \n",
       "\n",
       "            adjusted_price_min  adjusted_price_max  adjusted_price_mean  \\\n",
       "listing_id                                                                \n",
       "1078                      95.0               120.0           102.191781   \n",
       "2265                     170.0               200.0           178.630137   \n",
       "5245                     100.0               150.0           114.383562   \n",
       "5456                      95.0               250.0           116.438356   \n",
       "5769                      39.0                41.0            39.682192   \n",
       "\n",
       "            minimum_nights_min  minimum_nights_max  minimum_nights_mean  \\\n",
       "listing_id                                                                \n",
       "1078                       1.0                 1.0                  1.0   \n",
       "2265                       7.0                 7.0                  7.0   \n",
       "5245                      30.0                30.0                 30.0   \n",
       "5456                       2.0                 2.0                  2.0   \n",
       "5769                       1.0                 1.0                  1.0   \n",
       "\n",
       "            maximum_nights_min  maximum_nights_max  available_t_sum  \n",
       "listing_id                                                           \n",
       "1078                    1125.0              1125.0              0.0  \n",
       "2265                     180.0               180.0              0.0  \n",
       "5245                      90.0                90.0              0.0  \n",
       "5456                      90.0                90.0            345.0  \n",
       "5769                      14.0                14.0              0.0  "
      ]
     },
     "execution_count": 15,
     "metadata": {},
     "output_type": "execute_result"
    }
   ],
   "source": [
    "# concat agg column names\n",
    "col_names = []\n",
    "for cols in df_calendar_agg.columns:\n",
    "    new_col = '_'.join(cols)\n",
    "    col_names.append(new_col)\n",
    "\n",
    "\n",
    "# rename columns\n",
    "df_calendar_agg.columns = col_names\n",
    "\n",
    "df_calendar_agg.head()"
   ]
  },
  {
   "cell_type": "markdown",
   "metadata": {},
   "source": [
    "##### Feature engineering"
   ]
  },
  {
   "cell_type": "code",
   "execution_count": 16,
   "metadata": {},
   "outputs": [],
   "source": [
    "# number of days online\n",
    "df_calendar_agg['online_days'] = (df_calendar_agg['date_max']-df_calendar_agg['date_min']).apply(lambda x: x.days)+1\n",
    "# occupied days\n",
    "df_calendar_agg['ocupied_days'] = df_calendar_agg['online_days'] - df_calendar_agg['available_t_sum']\n",
    "# total revenue generated by the allocation\n",
    "df_calendar_agg['revenue'] = df_calendar_agg['ocupied_days']*df_calendar_agg['price_mean']\n",
    "# ocupation rate\n",
    "df_calendar_agg['ocupation_rate'] = df_calendar_agg['ocupied_days'] / df_calendar_agg['online_days']\n",
    "# geographical data\n",
    "df_calendar_agg['city'] = city\n",
    "# ocupation duration stats\n",
    "ocupation_duration_stats = pd.DataFrame()\n",
    "\n",
    "d = {'listing_id':[],\n",
    "        'ocupation_duration_median':[],\n",
    "        'ocupation_duration_mean':[],\n",
    "        'ocupation_duration_max':[],\n",
    "        'ocupation_duration_min':[]\n",
    "        }\n",
    "    \n",
    "for listing_id in df_calendar_agg.index:\n",
    "\n",
    "    vector = df_calendar.loc[df_calendar['listing_id']==listing_id]['available_t']\n",
    "    median_val, mean_val, max_val, min_val = get_sequences(vector, '1')\n",
    "    d['listing_id'].append(listing_id) \n",
    "    d['ocupation_duration_median'].append(median_val)\n",
    "    d['ocupation_duration_mean'].append(mean_val)\n",
    "    d['ocupation_duration_max'].append(max_val)\n",
    "    d['ocupation_duration_min'].append(min_val)\n",
    "\n",
    "\n",
    "ocupation_duration_stats = pd.DataFrame(d)\n",
    "df_calendar_agg = df_calendar_agg.join(ocupation_duration_stats.set_index('listing_id'))   \n",
    "\n"
   ]
  },
  {
   "cell_type": "code",
   "execution_count": 17,
   "metadata": {},
   "outputs": [
    {
     "data": {
      "text/html": [
       "<div>\n",
       "<style scoped>\n",
       "    .dataframe tbody tr th:only-of-type {\n",
       "        vertical-align: middle;\n",
       "    }\n",
       "\n",
       "    .dataframe tbody tr th {\n",
       "        vertical-align: top;\n",
       "    }\n",
       "\n",
       "    .dataframe thead th {\n",
       "        text-align: right;\n",
       "    }\n",
       "</style>\n",
       "<table border=\"1\" class=\"dataframe\">\n",
       "  <thead>\n",
       "    <tr style=\"text-align: right;\">\n",
       "      <th></th>\n",
       "      <th>listing_id</th>\n",
       "      <th>ocupation_duration_median</th>\n",
       "      <th>ocupation_duration_mean</th>\n",
       "      <th>ocupation_duration_max</th>\n",
       "      <th>ocupation_duration_min</th>\n",
       "    </tr>\n",
       "  </thead>\n",
       "  <tbody>\n",
       "    <tr>\n",
       "      <th>11368</th>\n",
       "      <td>53760016</td>\n",
       "      <td>1.0</td>\n",
       "      <td>1.0</td>\n",
       "      <td>1</td>\n",
       "      <td>1</td>\n",
       "    </tr>\n",
       "    <tr>\n",
       "      <th>11369</th>\n",
       "      <td>53764066</td>\n",
       "      <td>32.0</td>\n",
       "      <td>32.0</td>\n",
       "      <td>32</td>\n",
       "      <td>32</td>\n",
       "    </tr>\n",
       "    <tr>\n",
       "      <th>11370</th>\n",
       "      <td>53767190</td>\n",
       "      <td>0.0</td>\n",
       "      <td>0.0</td>\n",
       "      <td>0</td>\n",
       "      <td>0</td>\n",
       "    </tr>\n",
       "    <tr>\n",
       "      <th>11371</th>\n",
       "      <td>53769566</td>\n",
       "      <td>6.5</td>\n",
       "      <td>56.5</td>\n",
       "      <td>300</td>\n",
       "      <td>2</td>\n",
       "    </tr>\n",
       "    <tr>\n",
       "      <th>11372</th>\n",
       "      <td>53770692</td>\n",
       "      <td>7.0</td>\n",
       "      <td>7.0</td>\n",
       "      <td>7</td>\n",
       "      <td>7</td>\n",
       "    </tr>\n",
       "  </tbody>\n",
       "</table>\n",
       "</div>"
      ],
      "text/plain": [
       "       listing_id  ocupation_duration_median  ocupation_duration_mean  \\\n",
       "11368    53760016                        1.0                      1.0   \n",
       "11369    53764066                       32.0                     32.0   \n",
       "11370    53767190                        0.0                      0.0   \n",
       "11371    53769566                        6.5                     56.5   \n",
       "11372    53770692                        7.0                      7.0   \n",
       "\n",
       "       ocupation_duration_max  ocupation_duration_min  \n",
       "11368                       1                       1  \n",
       "11369                      32                      32  \n",
       "11370                       0                       0  \n",
       "11371                     300                       2  \n",
       "11372                       7                       7  "
      ]
     },
     "execution_count": 17,
     "metadata": {},
     "output_type": "execute_result"
    }
   ],
   "source": [
    "ocupation_duration_stats.tail()"
   ]
  },
  {
   "cell_type": "code",
   "execution_count": 18,
   "metadata": {},
   "outputs": [
    {
     "data": {
      "text/plain": [
       "<AxesSubplot:xlabel='ocupation_duration_mean', ylabel='Count'>"
      ]
     },
     "execution_count": 18,
     "metadata": {},
     "output_type": "execute_result"
    },
    {
     "data": {
      "image/png": "[encoded data removed]",
      "text/plain": [
       "<Figure size 432x288 with 1 Axes>"
      ]
     },
     "metadata": {
      "needs_background": "light"
     },
     "output_type": "display_data"
    }
   ],
   "source": [
    "sns.histplot(x='ocupation_duration_mean', data=ocupation_duration_stats)"
   ]
  },
  {
   "cell_type": "code",
   "execution_count": 27,
   "metadata": {},
   "outputs": [
    {
     "data": {
      "text/plain": [
       "<AxesSubplot:xlabel='ocupation_duration_min', ylabel='Count'>"
      ]
     },
     "execution_count": 27,
     "metadata": {},
     "output_type": "execute_result"
    },
    {
     "data": {
      "image/png": "[encoded data removed]",
      "text/plain": [
       "<Figure size 432x288 with 1 Axes>"
      ]
     },
     "metadata": {
      "needs_background": "light"
     },
     "output_type": "display_data"
    }
   ],
   "source": [
    "sns.histplot(x='ocupation_duration_mean', data=df_calendar_agg, hue='city', bins=100)"
   ]
  },
  {
   "cell_type": "code",
   "execution_count": 28,
   "metadata": {},
   "outputs": [
    {
     "data": {
      "text/plain": [
       "(11373, 23)"
      ]
     },
     "execution_count": 28,
     "metadata": {},
     "output_type": "execute_result"
    }
   ],
   "source": [
    "df_calendar_agg.shape"
   ]
  },
  {
   "cell_type": "markdown",
   "metadata": {},
   "source": [
    "##### Ingesting Pipeline - Calendar"
   ]
  },
  {
   "cell_type": "code",
   "execution_count": 30,
   "metadata": {},
   "outputs": [],
   "source": [
    "trusted_calendar_dataset = pd.DataFrame()\n",
    "\n",
    "cities = ['austin', 'boston', 'chicago', 'los_angeles', 'nashville', 'new_orleans',  'new_york', 'san_francisco', 'seattle']\n",
    "\n",
    "region = {'austin':'south', \n",
    "          'boston':'north_east', \n",
    "          'chicago':'north_east', \n",
    "          'los_angeles':'west', \n",
    "          'nashville':'south', \n",
    "          'new_orleans':'south',  \n",
    "          'new_york':'north_east', \n",
    "          'san_francisco':'west', \n",
    "          'seattle':'west'}\n",
    "\n",
    "for city in cities:\n",
    "    # defining path to read data\n",
    "    calendar_path = f'datasets/raw/{city}/calendar.csv.gz'\n",
    "\n",
    "    # extracting data\n",
    "    with gzip.open(calendar_path,'r') as f:\n",
    "        df_calendar = pd.read_csv(BytesIO(f.read()))\n",
    "\n",
    "    # dropping NaN values (not much missing values)\n",
    "    df_calendar.dropna(inplace=True)\n",
    "    \n",
    "    # object to numeric transformation\n",
    "    toNumeric_columns =  ['price','adjusted_price']\n",
    "    for col in toNumeric_columns:\n",
    "        df_calendar[col] = df_calendar[col].apply(remove_nonnumeric_chars)\n",
    "\n",
    "    # str to datetime transformation\n",
    "    df_calendar['date'] = pd.to_datetime(df_calendar['date'])\n",
    "\n",
    "    # dealing with categorical values\n",
    "    cat_cols_lst = ['available']\n",
    "    df_calendar = create_dummy_df(df_calendar, cat_cols_lst, dummy_na=False)\n",
    "\n",
    "    # Aggregating by listing_id\n",
    "    df_calendar_agg = df_calendar.groupby('listing_id').agg({'date':['min','max'],\n",
    "                                                        'price':['min', 'max', 'mean'], \n",
    "                                                        'adjusted_price':['min', 'max', 'mean'], \n",
    "                                                        'minimum_nights':['min','max','mean'], \n",
    "                                                        'maximum_nights':['min','max'],\n",
    "                                                        'available_t':'sum'\n",
    "                                                        })  \n",
    "    \n",
    "    # Renaming aggregated columns\n",
    "    # concat agg column names\n",
    "    col_names = []\n",
    "    for cols in df_calendar_agg.columns:\n",
    "        new_col = '_'.join(cols)\n",
    "        col_names.append(new_col)\n",
    "\n",
    "    # rename columns\n",
    "    df_calendar_agg.columns = col_names\n",
    "\n",
    "\n",
    "    # Feature engineering\n",
    "    # number of days online\n",
    "    df_calendar_agg['online_days'] = (df_calendar_agg['date_max']-df_calendar_agg['date_min']).apply(lambda x: x.days)+1\n",
    "    # occupied days\n",
    "    df_calendar_agg['ocupied_days'] = df_calendar_agg['online_days'] - df_calendar_agg['available_t_sum']\n",
    "    # total revenue generated by the allocation\n",
    "    df_calendar_agg['revenue'] = df_calendar_agg['ocupied_days'] * df_calendar_agg['price_mean']\n",
    "    # ocupation rate\n",
    "    df_calendar_agg['ocupation_rate'] = df_calendar_agg['ocupied_days'] / df_calendar_agg['online_days']\n",
    "    # geographical data\n",
    "    df_calendar_agg['city'] = city\n",
    "    df_calendar_agg['region'] = region[city]\n",
    "\n",
    "    d = {'listing_id':[],\n",
    "        'ocupation_duration_median':[],\n",
    "        'ocupation_duration_mean':[],\n",
    "        'ocupation_duration_max':[],\n",
    "        'ocupation_duration_min':[]\n",
    "        }\n",
    "    \n",
    "    for listing_id in df_calendar_agg.index:\n",
    "\n",
    "        vector = df_calendar.loc[df_calendar['listing_id']==listing_id]['available_t']\n",
    "        median_val, mean_val, max_val, min_val = get_sequences(vector, '1')\n",
    "        d['listing_id'].append(listing_id) \n",
    "        d['ocupation_duration_median'].append(median_val)\n",
    "        d['ocupation_duration_mean'].append(mean_val)\n",
    "        d['ocupation_duration_max'].append(max_val)\n",
    "        d['ocupation_duration_min'].append(min_val)\n",
    "    \n",
    "    ocupation_duration_stats = pd.DataFrame(d)\n",
    "    df_calendar_agg = df_calendar_agg.join(ocupation_duration_stats.set_index('listing_id'))   \n",
    "\n",
    "    # concat data to the calendar dataset\n",
    "    trusted_calendar_dataset = pd.concat([trusted_calendar_dataset, df_calendar_agg])\n",
    "\n",
    "# loading data to the trusted directory\n",
    "trusted_calendar_dataset.to_csv('datasets/trusted/calendar_dataset.csv')\n",
    "\n",
    "\n",
    "\n",
    "    "
   ]
  },
  {
   "cell_type": "code",
   "execution_count": null,
   "metadata": {},
   "outputs": [
    {
     "data": {
      "text/plain": [
       "<seaborn.axisgrid.FacetGrid at 0x2228614a910>"
      ]
     },
     "execution_count": 41,
     "metadata": {},
     "output_type": "execute_result"
    },
    {
     "data": {
      "image/png": "[encoded data removed]",
      "text/plain": [
       "<Figure size 464.125x360 with 1 Axes>"
      ]
     },
     "metadata": {
      "needs_background": "light"
     },
     "output_type": "display_data"
    }
   ],
   "source": [
    "sns.displot(x='revenue', data=trusted_calendar_dataset, hue='city')"
   ]
  },
  {
   "cell_type": "code",
   "execution_count": null,
   "metadata": {},
   "outputs": [
    {
     "data": {
      "text/plain": [
       "<seaborn.axisgrid.FacetGrid at 0x22286068b20>"
      ]
     },
     "execution_count": 38,
     "metadata": {},
     "output_type": "execute_result"
    },
    {
     "data": {
      "image/png": "[encoded data removed]",
      "text/plain": [
       "<Figure size 464.125x360 with 1 Axes>"
      ]
     },
     "metadata": {
      "needs_background": "light"
     },
     "output_type": "display_data"
    }
   ],
   "source": [
    "sns.displot(x='ocupation_rate', data=trusted_calendar_dataset, hue='city')\n",
    "# histplot(element='ocupation_rate', data=trusted_calendar_dataset, hue='city')"
   ]
  },
  {
   "cell_type": "code",
   "execution_count": null,
   "metadata": {},
   "outputs": [],
   "source": [
    "sns.histplot(x='ocupation_duration_mean', data=df_calendar_agg, hue='city', bins=100)"
   ]
  },
  {
   "cell_type": "code",
   "execution_count": null,
   "metadata": {},
   "outputs": [
    {
     "data": {
      "text/plain": [
       "<AxesSubplot:xlabel='online_days', ylabel='Count'>"
      ]
     },
     "execution_count": 31,
     "metadata": {},
     "output_type": "execute_result"
    },
    {
     "data": {
      "image/png": "[encoded data removed]",
      "text/plain": [
       "<Figure size 432x288 with 1 Axes>"
      ]
     },
     "metadata": {
      "needs_background": "light"
     },
     "output_type": "display_data"
    }
   ],
   "source": [
    "sns.histplot(data=trusted_calendar_dataset['online_days'])"
   ]
  },
  {
   "cell_type": "markdown",
   "metadata": {},
   "source": [
    "#### listings data"
   ]
  },
  {
   "cell_type": "markdown",
   "metadata": {},
   "source": [
    "## Data Preparation"
   ]
  },
  {
   "cell_type": "markdown",
   "metadata": {},
   "source": [
    "## Modelling"
   ]
  },
  {
   "cell_type": "markdown",
   "metadata": {},
   "source": []
  }
 ],
 "metadata": {
  "interpreter": {
   "hash": "a2b72ad74ec8b1368a383d0f41ddd77f160c566387e4279ab43f9a0692ac185e"
  },
  "kernelspec": {
   "display_name": "Python 3.9.7 ('base')",
   "language": "python",
   "name": "python3"
  },
  "language_info": {
   "codemirror_mode": {
    "name": "ipython",
    "version": 3
   },
   "file_extension": ".py",
   "mimetype": "text/x-python",
   "name": "python",
   "nbconvert_exporter": "python",
   "pygments_lexer": "ipython3",
   "version": "3.9.7"
  },
  "orig_nbformat": 4
 },
 "nbformat": 4,
 "nbformat_minor": 2
}
