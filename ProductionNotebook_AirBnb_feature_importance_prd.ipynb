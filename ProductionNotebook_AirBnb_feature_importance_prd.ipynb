{
 "cells": [
  {
   "cell_type": "markdown",
   "metadata": {},
   "source": [
    "# AirBnb Feature Importance Project"
   ]
  },
  {
   "cell_type": "markdown",
   "metadata": {},
   "source": [
    "## Motivation\n",
    "\n",
    "Traveling to a nice touristic cosmopolitan city is different to travel to a small city or to a not so turistic one. Thats clear in our minds and there is no doubt about it. But could we tell the most important characteristics of an AirBnb acomodation that differ between the most visited cities and the not so visited ones. <br>\n",
    "\n",
    "With that said, the main motivation of the project is translated into the following research questions:\n",
    "\n",
    "### Research Questions\n",
    "1. Which are the 10 most important characteristics to influence the overall review of an acomodation?\n",
    "2. What are the general differences between a top rated acomodation and a almost top one?\n",
    "3. Which are the main review aspects that influences the overall review score?\n",
    "4. How would be the most likely description of a acomodation in a small city like Salem, Oregon based on the findings of this study?\n"
   ]
  },
  {
   "cell_type": "markdown",
   "metadata": {},
   "source": [
    "## Importing libraries"
   ]
  },
  {
   "cell_type": "code",
   "execution_count": 1,
   "metadata": {},
   "outputs": [
    {
     "name": "stderr",
     "output_type": "stream",
     "text": [
      "[nltk_data] Downloading package vader_lexicon to C:\\Users\\DTI\n",
      "[nltk_data]     Digital\\AppData\\Roaming\\nltk_data...\n",
      "[nltk_data]   Package vader_lexicon is already up-to-date!\n"
     ]
    }
   ],
   "source": [
    "import pandas as pd\n",
    "import numpy as np\n",
    "import gzip\n",
    "from io import BytesIO\n",
    "import re\n",
    "from decimal import Decimal\n",
    "\n",
    "import seaborn as sns\n",
    "import matplotlib.pyplot as plt\n",
    "\n",
    "import nltk\n",
    "nltk.download('vader_lexicon')\n",
    "from nltk.sentiment.vader import SentimentIntensityAnalyzer\n",
    "\n",
    "from tqdm import tqdm\n",
    "\n",
    "from sklearn.preprocessing import StandardScaler\n",
    "from sklearn.model_selection import train_test_split\n",
    "from sklearn.model_selection import cross_val_score\n",
    "from sklearn.metrics import r2_score, mean_squared_error\n",
    "\n",
    "import lightgbm as lgb\n",
    "from xgboost import XGBRegressor"
   ]
  },
  {
   "cell_type": "markdown",
   "metadata": {},
   "source": [
    "## Toolkit functions"
   ]
  },
  {
   "cell_type": "code",
   "execution_count": 2,
   "metadata": {},
   "outputs": [],
   "source": [
    "def remove_nonnumeric_chars(s):\n",
    "    '''\n",
    "    INPUT:\n",
    "    s - numeric string with non-numeric charachters\n",
    "\n",
    "    OUTPUT:\n",
    "    np.float16 - numeric value before the dot\n",
    "    '''\n",
    "    try:\n",
    "        return np.float64(Decimal(re.sub(r'[^\\d.]', '', s)))\n",
    "    except:\n",
    "        return np.nan"
   ]
  },
  {
   "cell_type": "code",
   "execution_count": 3,
   "metadata": {},
   "outputs": [],
   "source": [
    "def create_dummy_df(df, cat_cols, dummy_na, drop_first=True):\n",
    "    '''\n",
    "    INPUT:\n",
    "    df - pandas dataframe with categorical variables you want to dummy\n",
    "    cat_cols - list of strings that are associated with names of the categorical columns\n",
    "    dummy_na - Bool holding whether you want to dummy NA vals of categorical columns or not\n",
    "    \n",
    "    OUTPUT:\n",
    "    df - a new dataframe that has the following characteristics:\n",
    "            1. contains all columns that were not specified as categorical\n",
    "            2. removes all the original columns in cat_cols\n",
    "            3. dummy columns for each of the categorical columns in cat_cols\n",
    "            4. if dummy_na is True - it also contains dummy columns for the NaN values\n",
    "            5. Use a prefix of the column name with an underscore (_) for separating \n",
    "    '''\n",
    "    \n",
    "    cat_df_out = pd.get_dummies(df[cat_cols], prefix=cat_cols, prefix_sep='_', dummy_na=dummy_na, drop_first=drop_first)\n",
    "    df_out     = cat_df_out.join(df.drop(cat_cols, axis=1))\n",
    "\n",
    "    return df_out"
   ]
  },
  {
   "cell_type": "code",
   "execution_count": 4,
   "metadata": {},
   "outputs": [],
   "source": [
    "def get_sequences(vector, split_val):\n",
    "    ''''\n",
    "    INPUT:\n",
    "    vector - raw serie (pd.Series)\n",
    "    split_val - reference str to split the series\n",
    "\n",
    "    OUTPUT:\n",
    "    median, mean, max, min values of the sequences found in the serie\n",
    "    '''    \n",
    "    sequences = ''.join([str(val) for val in vector]).split(split_val)\n",
    "    sequences_count = [len(val) for val in sequences]\n",
    "    sequences_cleansed = [val for val in sequences_count if val>0]\n",
    "\n",
    "    if len(sequences_cleansed) > 0:\n",
    "        return np.median(sequences_cleansed), np.mean(sequences_cleansed), np.max(sequences_cleansed), np.min(sequences_cleansed)\n",
    "    else:\n",
    "        return 0,0,0,0"
   ]
  },
  {
   "cell_type": "code",
   "execution_count": 5,
   "metadata": {},
   "outputs": [],
   "source": [
    "def plot_importance(data, feature, title=None ,rows=10):\n",
    "    '''\n",
    "    INPUT:\n",
    "    data - dataframe based on which the plot will be done\n",
    "    feature - feature to plot\n",
    "    title - plot title, default=None\n",
    "    rows - number of rows to show\n",
    "    '''\n",
    "    corr_abs = data.iloc[:rows]\n",
    "    fig, ax = plt.subplots(nrows=1, ncols=2, figsize=(5,7), dpi=200)#, sharey=True)\n",
    "    gs = fig.add_gridspec(1, 3)\n",
    "\n",
    "    sns.heatmap(corr_abs, annot=True, cmap='magma_r', cbar=False,ax=ax[0])\n",
    "    sns.barplot(x=feature, y=corr_abs.index, data=corr_abs, palette=\"magma\")\n",
    "\n",
    "    ax[0].axes.get_xaxis().set_visible(False)\n",
    "    ax[1].axes.get_xaxis().set_visible(False)\n",
    "    ax[1].axes.get_yaxis().set_visible(False)\n",
    "\n",
    "    fig.suptitle(title, fontsize=20)\n",
    "    sns.despine(bottom=True)"
   ]
  },
  {
   "cell_type": "markdown",
   "metadata": {},
   "source": [
    "## ETL\n",
    "\n",
    "### tourism data"
   ]
  },
  {
   "cell_type": "code",
   "execution_count": 39,
   "metadata": {},
   "outputs": [],
   "source": [
    "# read and load tourism data\n",
    "tourism = pd.read_csv('datasets/raw/city_tourism.csv',sep=';')\n",
    "# making sure to cleanse the names\n",
    "for col in ['city','city_name','state','region','country']:\n",
    "    tourism[col] = tourism[col].apply(lambda x: x.strip())\n",
    "# preparing the cities names to iterate through the cities\n",
    "cities = tourism['city'].values\n"
   ]
  },
  {
   "cell_type": "markdown",
   "metadata": {},
   "source": [
    "### calendar data"
   ]
  },
  {
   "cell_type": "code",
   "execution_count": 41,
   "metadata": {},
   "outputs": [
    {
     "name": "stderr",
     "output_type": "stream",
     "text": [
      "100%|██████████| 23/23 [48:36<00:00, 126.81s/it]  \n"
     ]
    }
   ],
   "source": [
    "trusted_calendar_dataset = pd.DataFrame()\n",
    "\n",
    "for city in tqdm(cities):\n",
    "    # defining path to read data\n",
    "    calendar_path = f'datasets/raw/{city}/calendar.csv.gz'\n",
    "\n",
    "    # extracting data\n",
    "    with gzip.open(calendar_path,'r') as f:\n",
    "        df_calendar = pd.read_csv(BytesIO(f.read()))\n",
    "\n",
    "    # dropping NaN values (not much missing values)\n",
    "    df_calendar.dropna(inplace=True)\n",
    "    \n",
    "    # object to numeric transformation\n",
    "    toNumeric_columns =  ['price','adjusted_price']\n",
    "    for col in toNumeric_columns:\n",
    "        df_calendar[col] = df_calendar[col].apply(remove_nonnumeric_chars)\n",
    "\n",
    "    # str to datetime transformation\n",
    "    df_calendar['date'] = pd.to_datetime(df_calendar['date'])\n",
    "\n",
    "    # dealing with categorical values\n",
    "    cat_cols_lst = ['available']\n",
    "    df_calendar = create_dummy_df(df_calendar, cat_cols_lst, dummy_na=False)\n",
    "\n",
    "    # Aggregating by listing_id\n",
    "    df_calendar_agg = df_calendar.groupby('listing_id').agg({'date':['min','max'],\n",
    "                                                        'price':['min', 'max', 'mean'], \n",
    "                                                        'minimum_nights':['min','max','mean'], \n",
    "                                                        'maximum_nights':['min','max'],\n",
    "                                                        'available_t':'sum'\n",
    "                                                        })  \n",
    "    \n",
    "    # Renaming aggregated columns\n",
    "    # concat agg column names\n",
    "    col_names = []\n",
    "    for cols in df_calendar_agg.columns:\n",
    "        new_col = '_'.join(cols)\n",
    "        col_names.append(new_col)\n",
    "\n",
    "    # rename columns\n",
    "    df_calendar_agg.columns = col_names\n",
    "\n",
    "\n",
    "    # Feature engineering\n",
    "    # number of days online\n",
    "    df_calendar_agg['online_days'] = (df_calendar_agg['date_max']-df_calendar_agg['date_min']).apply(lambda x: x.days)+1\n",
    "    df_calendar_agg.drop('date_max', axis=1, inplace=True)\n",
    "    df_calendar_agg.drop('date_min', axis=1, inplace=True)\n",
    "    # occupied days\n",
    "    df_calendar_agg['ocupied_days'] = df_calendar_agg['online_days'] - df_calendar_agg['available_t_sum']\n",
    "    # total revenue generated by the allocation\n",
    "    df_calendar_agg['revenue'] = df_calendar_agg['ocupied_days'] * df_calendar_agg['price_mean']\n",
    "    # ocupation rate\n",
    "    df_calendar_agg['ocupation_rate'] = df_calendar_agg['ocupied_days'] / df_calendar_agg['online_days']\n",
    "    # geographical and tourism data\n",
    "    df_calendar_agg['city'] = city\n",
    "    df_calendar_agg = df_calendar_agg.join(tourism.set_index('city'), on='city', how='left')\n",
    "    df_calendar_agg['foreign_visitors']    = df_calendar_agg['foreign_visitors'].astype('str').apply(lambda x: re.sub('\\.', '', x))\n",
    "    df_calendar_agg['visitors_per_capita'] = df_calendar_agg['visitors_per_capita'].apply(lambda x: re.sub(',','.',x)).astype(np.float64)\n",
    "\n",
    "    # calculating relative price based on each city\n",
    "    df_calendar_agg['price_mean_rel'] = df_calendar_agg['price_mean'] / df_calendar_agg['price_mean'].mean()\n",
    "    df_calendar_agg['price_min_rel'] = df_calendar_agg['price_min'] / df_calendar_agg['price_min'].mean()\n",
    "    df_calendar_agg['price_max_rel'] = df_calendar_agg['price_max'] / df_calendar_agg['price_max'].mean()\n",
    "\n",
    "    # calculating ocupation statistics\n",
    "    d = {'listing_id':[],\n",
    "        'ocupation_duration_median':[],\n",
    "        'ocupation_duration_mean':[],\n",
    "        'ocupation_duration_max':[],\n",
    "        'ocupation_duration_min':[]\n",
    "        }\n",
    "    # loop through each acomodation to impute the statistics\n",
    "    for listing_id in df_calendar_agg.index:\n",
    "        vector = df_calendar.loc[df_calendar['listing_id']==listing_id]['available_t']\n",
    "        median_val, mean_val, max_val, min_val = get_sequences(vector, '1')\n",
    "        d['listing_id'].append(listing_id) \n",
    "        d['ocupation_duration_median'].append(median_val)\n",
    "        d['ocupation_duration_mean'].append(mean_val)\n",
    "        d['ocupation_duration_max'].append(max_val)\n",
    "        d['ocupation_duration_min'].append(min_val)\n",
    "    # join with calculated statistics\n",
    "    ocupation_duration_stats = pd.DataFrame(d)\n",
    "    df_calendar_agg = df_calendar_agg.join(ocupation_duration_stats.set_index('listing_id'))   \n",
    "\n",
    "    # concat data to the calendar dataset\n",
    "    trusted_calendar_dataset = pd.concat([trusted_calendar_dataset, df_calendar_agg])\n",
    "\n",
    "\n",
    "# loading data to the trusted directory\n",
    "trusted_calendar_dataset.to_csv('datasets/trusted/calendar_dataset.csv')"
   ]
  },
  {
   "cell_type": "markdown",
   "metadata": {},
   "source": [
    "### listing data"
   ]
  },
  {
   "cell_type": "code",
   "execution_count": 42,
   "metadata": {},
   "outputs": [
    {
     "name": "stderr",
     "output_type": "stream",
     "text": [
      "  0%|          | 0/23 [00:00<?, ?it/s]C:\\Users\\DTIDIG~1\\AppData\\Local\\Temp/ipykernel_22996/1375416946.py:58: FutureWarning: Dropping of nuisance columns in DataFrame reductions (with 'numeric_only=None') is deprecated; in a future version this will raise TypeError.  Select only valid columns before calling the reduction.\n",
      "  df_listing = df_listing.fillna(df_listing.median())\n",
      "  4%|▍         | 1/23 [00:00<00:10,  2.10it/s]C:\\Users\\DTIDIG~1\\AppData\\Local\\Temp/ipykernel_22996/1375416946.py:58: FutureWarning: Dropping of nuisance columns in DataFrame reductions (with 'numeric_only=None') is deprecated; in a future version this will raise TypeError.  Select only valid columns before calling the reduction.\n",
      "  df_listing = df_listing.fillna(df_listing.median())\n",
      "  9%|▊         | 2/23 [00:01<00:20,  1.02it/s]C:\\Users\\DTIDIG~1\\AppData\\Local\\Temp/ipykernel_22996/1375416946.py:58: FutureWarning: Dropping of nuisance columns in DataFrame reductions (with 'numeric_only=None') is deprecated; in a future version this will raise TypeError.  Select only valid columns before calling the reduction.\n",
      "  df_listing = df_listing.fillna(df_listing.median())\n",
      " 13%|█▎        | 3/23 [00:02<00:13,  1.45it/s]C:\\Users\\DTIDIG~1\\AppData\\Local\\Temp/ipykernel_22996/1375416946.py:58: FutureWarning: Dropping of nuisance columns in DataFrame reductions (with 'numeric_only=None') is deprecated; in a future version this will raise TypeError.  Select only valid columns before calling the reduction.\n",
      "  df_listing = df_listing.fillna(df_listing.median())\n",
      " 17%|█▋        | 4/23 [00:02<00:12,  1.47it/s]C:\\Users\\DTIDIG~1\\AppData\\Local\\Temp/ipykernel_22996/1375416946.py:58: FutureWarning: Dropping of nuisance columns in DataFrame reductions (with 'numeric_only=None') is deprecated; in a future version this will raise TypeError.  Select only valid columns before calling the reduction.\n",
      "  df_listing = df_listing.fillna(df_listing.median())\n",
      " 22%|██▏       | 5/23 [00:03<00:09,  1.88it/s]C:\\Users\\DTIDIG~1\\AppData\\Local\\Temp/ipykernel_22996/1375416946.py:58: FutureWarning: Dropping of nuisance columns in DataFrame reductions (with 'numeric_only=None') is deprecated; in a future version this will raise TypeError.  Select only valid columns before calling the reduction.\n",
      "  df_listing = df_listing.fillna(df_listing.median())\n",
      " 26%|██▌       | 6/23 [00:03<00:08,  1.95it/s]C:\\Users\\DTIDIG~1\\AppData\\Local\\Temp/ipykernel_22996/1375416946.py:58: FutureWarning: Dropping of nuisance columns in DataFrame reductions (with 'numeric_only=None') is deprecated; in a future version this will raise TypeError.  Select only valid columns before calling the reduction.\n",
      "  df_listing = df_listing.fillna(df_listing.median())\n",
      " 30%|███       | 7/23 [00:04<00:12,  1.25it/s]C:\\Users\\DTIDIG~1\\AppData\\Local\\Temp/ipykernel_22996/1375416946.py:58: FutureWarning: Dropping of nuisance columns in DataFrame reductions (with 'numeric_only=None') is deprecated; in a future version this will raise TypeError.  Select only valid columns before calling the reduction.\n",
      "  df_listing = df_listing.fillna(df_listing.median())\n",
      " 35%|███▍      | 8/23 [00:05<00:12,  1.18it/s]C:\\Users\\DTIDIG~1\\AppData\\Local\\Temp/ipykernel_22996/1375416946.py:58: FutureWarning: Dropping of nuisance columns in DataFrame reductions (with 'numeric_only=None') is deprecated; in a future version this will raise TypeError.  Select only valid columns before calling the reduction.\n",
      "  df_listing = df_listing.fillna(df_listing.median())\n",
      " 39%|███▉      | 9/23 [00:07<00:13,  1.06it/s]C:\\Users\\DTIDIG~1\\AppData\\Local\\Temp/ipykernel_22996/1375416946.py:58: FutureWarning: Dropping of nuisance columns in DataFrame reductions (with 'numeric_only=None') is deprecated; in a future version this will raise TypeError.  Select only valid columns before calling the reduction.\n",
      "  df_listing = df_listing.fillna(df_listing.median())\n",
      " 43%|████▎     | 10/23 [00:10<00:22,  1.74s/it]C:\\Users\\DTIDIG~1\\AppData\\Local\\Temp/ipykernel_22996/1375416946.py:58: FutureWarning: Dropping of nuisance columns in DataFrame reductions (with 'numeric_only=None') is deprecated; in a future version this will raise TypeError.  Select only valid columns before calling the reduction.\n",
      "  df_listing = df_listing.fillna(df_listing.median())\n",
      " 48%|████▊     | 11/23 [00:11<00:16,  1.35s/it]C:\\Users\\DTIDIG~1\\AppData\\Local\\Temp/ipykernel_22996/1375416946.py:58: FutureWarning: Dropping of nuisance columns in DataFrame reductions (with 'numeric_only=None') is deprecated; in a future version this will raise TypeError.  Select only valid columns before calling the reduction.\n",
      "  df_listing = df_listing.fillna(df_listing.median())\n",
      " 52%|█████▏    | 12/23 [00:11<00:12,  1.15s/it]C:\\Users\\DTIDIG~1\\AppData\\Local\\Temp/ipykernel_22996/1375416946.py:58: FutureWarning: Dropping of nuisance columns in DataFrame reductions (with 'numeric_only=None') is deprecated; in a future version this will raise TypeError.  Select only valid columns before calling the reduction.\n",
      "  df_listing = df_listing.fillna(df_listing.median())\n",
      " 57%|█████▋    | 13/23 [00:12<00:09,  1.02it/s]C:\\Users\\DTI Digital\\anaconda3\\lib\\site-packages\\IPython\\core\\interactiveshell.py:3444: DtypeWarning: Columns (67) have mixed types.Specify dtype option on import or set low_memory=False.\n",
      "  exec(code_obj, self.user_global_ns, self.user_ns)\n",
      "C:\\Users\\DTIDIG~1\\AppData\\Local\\Temp/ipykernel_22996/1375416946.py:58: FutureWarning: Dropping of nuisance columns in DataFrame reductions (with 'numeric_only=None') is deprecated; in a future version this will raise TypeError.  Select only valid columns before calling the reduction.\n",
      "  df_listing = df_listing.fillna(df_listing.median())\n",
      " 61%|██████    | 14/23 [00:15<00:15,  1.69s/it]C:\\Users\\DTIDIG~1\\AppData\\Local\\Temp/ipykernel_22996/1375416946.py:58: FutureWarning: Dropping of nuisance columns in DataFrame reductions (with 'numeric_only=None') is deprecated; in a future version this will raise TypeError.  Select only valid columns before calling the reduction.\n",
      "  df_listing = df_listing.fillna(df_listing.median())\n",
      " 65%|██████▌   | 15/23 [00:15<00:09,  1.24s/it]C:\\Users\\DTIDIG~1\\AppData\\Local\\Temp/ipykernel_22996/1375416946.py:58: FutureWarning: Dropping of nuisance columns in DataFrame reductions (with 'numeric_only=None') is deprecated; in a future version this will raise TypeError.  Select only valid columns before calling the reduction.\n",
      "  df_listing = df_listing.fillna(df_listing.median())\n",
      " 70%|██████▉   | 16/23 [00:16<00:06,  1.05it/s]C:\\Users\\DTIDIG~1\\AppData\\Local\\Temp/ipykernel_22996/1375416946.py:58: FutureWarning: Dropping of nuisance columns in DataFrame reductions (with 'numeric_only=None') is deprecated; in a future version this will raise TypeError.  Select only valid columns before calling the reduction.\n",
      "  df_listing = df_listing.fillna(df_listing.median())\n",
      " 74%|███████▍  | 17/23 [00:16<00:04,  1.23it/s]C:\\Users\\DTIDIG~1\\AppData\\Local\\Temp/ipykernel_22996/1375416946.py:58: FutureWarning: Dropping of nuisance columns in DataFrame reductions (with 'numeric_only=None') is deprecated; in a future version this will raise TypeError.  Select only valid columns before calling the reduction.\n",
      "  df_listing = df_listing.fillna(df_listing.median())\n",
      " 78%|███████▊  | 18/23 [00:17<00:03,  1.44it/s]C:\\Users\\DTIDIG~1\\AppData\\Local\\Temp/ipykernel_22996/1375416946.py:58: FutureWarning: Dropping of nuisance columns in DataFrame reductions (with 'numeric_only=None') is deprecated; in a future version this will raise TypeError.  Select only valid columns before calling the reduction.\n",
      "  df_listing = df_listing.fillna(df_listing.median())\n",
      "C:\\Users\\DTIDIG~1\\AppData\\Local\\Temp/ipykernel_22996/1375416946.py:58: FutureWarning: Dropping of nuisance columns in DataFrame reductions (with 'numeric_only=None') is deprecated; in a future version this will raise TypeError.  Select only valid columns before calling the reduction.\n",
      "  df_listing = df_listing.fillna(df_listing.median())\n",
      " 87%|████████▋ | 20/23 [00:17<00:01,  1.81it/s]C:\\Users\\DTIDIG~1\\AppData\\Local\\Temp/ipykernel_22996/1375416946.py:58: FutureWarning: Dropping of nuisance columns in DataFrame reductions (with 'numeric_only=None') is deprecated; in a future version this will raise TypeError.  Select only valid columns before calling the reduction.\n",
      "  df_listing = df_listing.fillna(df_listing.median())\n",
      " 91%|█████████▏| 21/23 [00:18<00:01,  1.75it/s]C:\\Users\\DTIDIG~1\\AppData\\Local\\Temp/ipykernel_22996/1375416946.py:58: FutureWarning: Dropping of nuisance columns in DataFrame reductions (with 'numeric_only=None') is deprecated; in a future version this will raise TypeError.  Select only valid columns before calling the reduction.\n",
      "  df_listing = df_listing.fillna(df_listing.median())\n",
      " 96%|█████████▌| 22/23 [00:19<00:00,  1.76it/s]C:\\Users\\DTIDIG~1\\AppData\\Local\\Temp/ipykernel_22996/1375416946.py:58: FutureWarning: Dropping of nuisance columns in DataFrame reductions (with 'numeric_only=None') is deprecated; in a future version this will raise TypeError.  Select only valid columns before calling the reduction.\n",
      "  df_listing = df_listing.fillna(df_listing.median())\n",
      "100%|██████████| 23/23 [00:19<00:00,  1.16it/s]\n"
     ]
    }
   ],
   "source": [
    "# creating empty dataset for listings data\n",
    "trusted_listing_dataset = pd.DataFrame()\n",
    "\n",
    "for city in tqdm(cities):\n",
    "    # defining path to read data\n",
    "    listing_path = f'datasets/raw/{city}/listings.csv.gz'\n",
    "\n",
    "    with gzip.open(listing_path,'r') as f:\n",
    "        df_listing = pd.read_csv(BytesIO(f.read()))\n",
    "\n",
    "    missing_cols_100 = df_listing.columns[df_listing.isna().mean()==1]\n",
    "    df_listing.drop(missing_cols_100, axis=1, inplace=True)\n",
    "\n",
    "    # for the ones below 5%, dropping the rows\n",
    "    to_drop_rows = df_listing.columns[(df_listing.isna().mean()<0.1)]\n",
    "    df_listing.dropna(subset=to_drop_rows, inplace=True)\n",
    "\n",
    "    object_cols = df_listing.columns[df_listing.dtypes=='object']\n",
    "\n",
    "    # cleansing host data\n",
    "    to_drop = ['host_url', 'host_name', 'host_location', 'host_about', 'host_thumbnail_url', 'host_picture_url', 'host_neighbourhood', 'host_verifications']\n",
    "    df_listing.drop(to_drop, axis=1, inplace=True)\n",
    "\n",
    "    # dropping not needed columns\n",
    "    to_drop = ['listing_url', 'name', 'description', 'picture_url', 'neighbourhood', 'amenities', 'price', 'has_availability',\n",
    "           'neighborhood_overview','calendar_last_scraped','last_review',\n",
    "           'bathrooms_text']\n",
    "    df_listing.drop(to_drop, axis=1, inplace=True)\n",
    "\n",
    "    # dropping not needed columns\n",
    "    to_drop = ['scrape_id', 'host_id', 'host_listings_count', 'neighbourhood_cleansed', 'latitude', 'longitude', 'minimum_nights',\n",
    "            'maximum_nights','minimum_minimum_nights','maximum_minimum_nights','minimum_maximum_nights','maximum_maximum_nights','minimum_nights_avg_ntm','maximum_nights_avg_ntm',\n",
    "            'availability_30','availability_60','availability_365','availability_90','number_of_reviews_ltm','calculated_host_listings_count','calculated_host_listings_count_entire_homes',\n",
    "            'calculated_host_listings_count_shared_rooms','calculated_host_listings_count_private_rooms', 'last_scraped']\n",
    "    df_listing.drop(to_drop, axis=1, inplace=True)\n",
    "\n",
    "    # object to numeric transformation\n",
    "    toNumeric_columns =  ['host_response_rate','host_acceptance_rate']\n",
    "    for col in toNumeric_columns:\n",
    "        df_listing[col] = df_listing[col].apply(remove_nonnumeric_chars)\n",
    "    \n",
    "    # dealing with categorical columns\n",
    "    categorical_cols = ['host_response_time', 'host_is_superhost', 'host_has_profile_pic', 'host_identity_verified', 'room_type', 'instant_bookable']\n",
    "    df_listing = create_dummy_df(df_listing, categorical_cols, dummy_na=True)\n",
    "    \n",
    "    # list of date columns\n",
    "    date_cols = ['host_since','first_review']\n",
    "    # str to datetime transformation\n",
    "    for col in date_cols:\n",
    "        df_listing[col] = pd.to_datetime(df_listing[col])\n",
    "    # transforming the date into the number of days until the last date\n",
    "    for col in date_cols:\n",
    "        df_listing[col] = (df_listing[col].max()-df_listing[col]).apply(lambda x: x.days)\n",
    "\n",
    "    # imputing the median value to the missing values\n",
    "    # The method chosen for NaN values Imputing was the median values, because they are succeptible to the outliars \n",
    "    # and influences less the whole distribution of the variables\n",
    "    df_listing['first_review'] = df_listing['first_review'].fillna(np.median(df_listing['first_review']))\n",
    "    # imputing the median value to the missing values\n",
    "    df_listing = df_listing.fillna(df_listing.median())\n",
    "\n",
    "    # concat datasets\n",
    "    trusted_listing_dataset = pd.concat([trusted_listing_dataset, df_listing])\n",
    "\n",
    "# drop features that are not always found in axis\n",
    "for col in ['license','neighbourhood_group_cleansed', 'property_type']:\n",
    "    try:\n",
    "        trusted_listing_dataset.drop(col, axis=1, inplace=True)\n",
    "    except:\n",
    "        print(f'{col} not found in axis')\n",
    "\n",
    "# making sure that no NaN column is encountered in the dataset\n",
    "trusted_listing_dataset = trusted_listing_dataset.fillna(trusted_listing_dataset.median())\n",
    "    \n",
    "# loading data to the trusted directory\n",
    "trusted_listing_dataset.to_csv('datasets/trusted/listing_dataset.csv')"
   ]
  },
  {
   "cell_type": "markdown",
   "metadata": {},
   "source": [
    "### review data"
   ]
  },
  {
   "cell_type": "code",
   "execution_count": 43,
   "metadata": {},
   "outputs": [
    {
     "name": "stderr",
     "output_type": "stream",
     "text": [
      "100%|██████████| 23/23 [1:33:22<00:00, 243.58s/it]\n"
     ]
    }
   ],
   "source": [
    "# creating empty dataset for the review data\n",
    "trusted_reviews_dataset = pd.DataFrame()\n",
    "\n",
    "for city in tqdm(cities):\n",
    "    # defining path to read data\n",
    "    reviews_path = f'datasets/raw/{city}/reviews.csv.gz'\n",
    "\n",
    "    with gzip.open(reviews_path,'r') as f:\n",
    "        df_reviews = pd.read_csv(BytesIO(f.read()))\n",
    "\n",
    "    # dropping nan values\n",
    "    df_reviews.dropna(inplace=True)\n",
    "    # dropping useless columns\n",
    "    df_reviews.drop(['id', 'reviewer_id',\t'reviewer_name'], axis=1, inplace=True)\n",
    "\n",
    "    # performing sentiment analysis on the comments given\n",
    "    sid = SentimentIntensityAnalyzer()\n",
    "\n",
    "    df_reviews[\"review_comment_score\"] = df_reviews['comments'].apply(sid.polarity_scores)\n",
    "    df_reviews[\"review_comment_score\"] = df_reviews[\"review_comment_score\"].apply(lambda review: review['compound'])\n",
    "\n",
    "    # transforming the date into the number of days until the last date\n",
    "    df_reviews['date'] = pd.to_datetime(df_reviews['date'])\n",
    "    df_reviews['review_date'] = (df_reviews['date'].max()-df_reviews['date']).apply(lambda x: x.days)\n",
    "\n",
    "    # dropping the transformed columns\n",
    "    df_reviews.drop(['date','comments'], axis=1, inplace=True)\n",
    "\n",
    "    # Grouping by listing_id\n",
    "    df_reviews_agg = df_reviews.groupby('listing_id').agg({'review_comment_score':['min','max','mean','median'],\n",
    "                                                       'review_date':['min', 'max', 'mean','median'], \n",
    "                                                       })\n",
    "    # concat agg column names\n",
    "    col_names = []\n",
    "    for cols in df_reviews_agg.columns:\n",
    "        new_col = '_'.join(cols)\n",
    "        col_names.append(new_col)\n",
    "    # rename columns\n",
    "    df_reviews_agg.columns = col_names\n",
    "\n",
    "    # concat data to the reviews dataset\n",
    "    trusted_reviews_dataset = pd.concat([trusted_reviews_dataset, df_reviews_agg])\n",
    "\n",
    "# loading data to the trusted directory\n",
    "trusted_reviews_dataset.to_csv('datasets/trusted/reviews_dataset.csv')"
   ]
  },
  {
   "cell_type": "markdown",
   "metadata": {},
   "source": [
    "## Data Preparation"
   ]
  },
  {
   "cell_type": "markdown",
   "metadata": {},
   "source": [
    "Reading the datasets"
   ]
  },
  {
   "cell_type": "code",
   "execution_count": 50,
   "metadata": {},
   "outputs": [],
   "source": [
    "# extracting the data\n",
    "calendar_path = 'datasets/trusted/calendar_dataset.csv'\n",
    "listing_path = 'datasets/trusted/listing_dataset.csv'\n",
    "reviews_path = 'datasets/trusted/reviews_dataset.csv'\n",
    "\n",
    "calendar_trusted = pd.read_csv(calendar_path)\n",
    "listing_trusted = pd.read_csv(listing_path)\n",
    "reviews_trusted = pd.read_csv(reviews_path)"
   ]
  },
  {
   "cell_type": "markdown",
   "metadata": {},
   "source": [
    "Joining all the raw datasets"
   ]
  },
  {
   "cell_type": "code",
   "execution_count": 51,
   "metadata": {},
   "outputs": [],
   "source": [
    "df_refined = reviews_trusted.set_index('listing_id')\\\n",
    "                            .join(listing_trusted.set_index('id'), how='left') \\\n",
    "                            .join(calendar_trusted.set_index('listing_id'), how='left')\n",
    "# drop nan values before persisting dataset\n",
    "df_refined.dropna(inplace=True)"
   ]
  },
  {
   "cell_type": "markdown",
   "metadata": {},
   "source": [
    "Reducing the outliars"
   ]
  },
  {
   "cell_type": "code",
   "execution_count": 52,
   "metadata": {},
   "outputs": [],
   "source": [
    "min_val = 50\n",
    "df_refined['host_acceptance_rate'] = df_refined['host_acceptance_rate'].apply(lambda x: x if x>=min_val else min_val)\n",
    "\n",
    "max_val = 3\n",
    "df_refined['price_max_rel'] = df_refined['price_max_rel'].apply(lambda x: x if x<=max_val else max_val)\n",
    "\n",
    "max_val = 1000\n",
    "df_refined['price_max'] = df_refined['price_max'].apply(lambda x: x if x<=max_val else max_val)\n",
    "\n",
    "max_val = 100\n",
    "df_refined['minimum_nights_min'] = df_refined['minimum_nights_min'].apply(lambda x: x if x<=max_val else max_val)\n",
    "\n",
    "max_val = 3\n",
    "df_refined['price_min_rel'] = df_refined['price_min_rel'].apply(lambda x: x if x<=max_val else max_val)\n",
    "\n",
    "max_val = 30\n",
    "df_refined['host_total_listings_count'] = df_refined['host_total_listings_count'].apply(lambda x: x if x<=max_val else max_val)\n",
    "\n",
    "max_val = 10\n",
    "df_refined['reviews_per_month'] = df_refined['reviews_per_month'].apply(lambda x: x if x<=max_val else max_val)\n"
   ]
  },
  {
   "cell_type": "code",
   "execution_count": 53,
   "metadata": {},
   "outputs": [],
   "source": [
    "# loading the data\n",
    "df_refined.to_csv('datasets/refined/refined_dataset.csv')"
   ]
  },
  {
   "cell_type": "markdown",
   "metadata": {},
   "source": [
    "## Modelling"
   ]
  },
  {
   "cell_type": "code",
   "execution_count": 14,
   "metadata": {},
   "outputs": [],
   "source": [
    "# Loading the refined dataset\n",
    "df_refined = pd.read_csv('datasets/refined/refined_dataset.csv')\n",
    "# Loading the most important features for the XGBoost model\n",
    "most_important_XGBoost = pd.read_csv('datasets/refined/most_important_XGBoost.csv', index_col=0)"
   ]
  },
  {
   "cell_type": "markdown",
   "metadata": {},
   "source": [
    "#### Using the most important features without relation to the review scores"
   ]
  },
  {
   "cell_type": "code",
   "execution_count": 15,
   "metadata": {},
   "outputs": [
    {
     "name": "stdout",
     "output_type": "stream",
     "text": [
      "features X_train: 10\n",
      "features X_test: 10\n",
      "XGBoost cross val score: 0.3802651693173937\n",
      "test score: 0.3958077339563967 \n",
      "train score: 0.5791553972302561\n"
     ]
    },
    {
     "data": {
      "image/png": "[encoded data removed]",
      "text/plain": [
       "<Figure size 1000x1400 with 2 Axes>"
      ]
     },
     "metadata": {
      "needs_background": "light"
     },
     "output_type": "display_data"
    }
   ],
   "source": [
    "# listing the most important features plus the target feature\n",
    "most_important_features = list(most_important_XGBoost.iloc[:10].index) + ['review_scores_rating']\n",
    "# creating a copy of the dataset in memory to be used on the trainig process\n",
    "df_refined_feed_model = df_refined[most_important_features].copy()\n",
    "\n",
    "# using the standard scaler to standardize the data\n",
    "scaler = StandardScaler()\n",
    "\n",
    "# separating the train and target features\n",
    "X = df_refined_feed_model[most_important_features].drop('review_scores_rating', axis=1)\n",
    "y = df_refined_feed_model['review_scores_rating']\n",
    "\n",
    "# train and test datasets split\n",
    "X_train, X_test, y_train, y_test = train_test_split(X, y, test_size=0.30, random_state=42)\n",
    "\n",
    "# standardization of the dataset\n",
    "X_train = scaler.fit_transform(X_train)\n",
    "X_test = scaler.transform(X_test)\n",
    "\n",
    "# check the shape of the train and test datasets\n",
    "print(f'features X_train: {len(X_train[1])}\\nfeatures X_test: {len(X_test[1])}')\n",
    "\n",
    "# Learning - XGBoost\n",
    "xgbc = XGBRegressor()\n",
    "xgbc.fit(X_train, y_train)\n",
    "xgbc_pred_train=xgbc.predict(X_train)\n",
    "xgbc_pred_test=xgbc.predict(X_test)\n",
    "\n",
    "# performing crossvalidation test \n",
    "xgscore = np.mean(cross_val_score(estimator=xgbc,\n",
    "                       X=X_train, y=y_train, cv=5))\n",
    "# printing cross validation results\n",
    "print(f'XGBoost cross val score: {xgscore}')\n",
    "\n",
    "# analysing train and test data results\n",
    "train_score_xgbc =  r2_score(y_train, xgbc_pred_train)\n",
    "test_score_xgbc = r2_score(y_test, xgbc_pred_test)\n",
    "# printing r2 scores of training and test\n",
    "print(f'test score: {test_score_xgbc} \\ntrain score: {train_score_xgbc}')\n",
    "\n",
    "# getting the most important features\n",
    "dict_importance = xgbc.get_booster().get_score(importance_type=\"total_gain\")\n",
    "d={}\n",
    "# cleanse the data\n",
    "for index, value in dict_importance.items():\n",
    "    d[X.columns[int(index[1:])]] = value\n",
    "# transforming data to a dataframe\n",
    "most_important_XGBoost = pd.DataFrame(d, index=['Total gain']).T\n",
    "most_important_XGBoost = most_important_XGBoost[['Total gain']].sort_values(ascending=False, by='Total gain')\n",
    "\n",
    "# plot most important features\n",
    "plot_importance(most_important_XGBoost, 'Total gain', 'XGBoost Model [Total gain]')"
   ]
  },
  {
   "cell_type": "markdown",
   "metadata": {},
   "source": [
    "#### Using the review scores"
   ]
  },
  {
   "cell_type": "code",
   "execution_count": 16,
   "metadata": {},
   "outputs": [
    {
     "name": "stdout",
     "output_type": "stream",
     "text": [
      "features X_train: 4\n",
      "features X_test: 4\n",
      "XGBoost cross val score: 0.8496045038305494\n",
      "test score: 0.851460983905282 \n",
      "train score: 0.8675059009743185\n"
     ]
    },
    {
     "data": {
      "image/png": "[encoded data removed]",
      "text/plain": [
       "<Figure size 1000x1400 with 2 Axes>"
      ]
     },
     "metadata": {
      "needs_background": "light"
     },
     "output_type": "display_data"
    }
   ],
   "source": [
    "# listing the features to be used on the training model\n",
    "most_important_features = [col for col in df_refined.columns if ('review_scores' in col)\n",
    "                            and('accuracy' not in col)\n",
    "                            and('value' not in col) ]\n",
    "# creating a copy of the dataset in memory to be used on the trainig process\n",
    "df_refined_feed_model = df_refined[most_important_features[:10]].copy()\n",
    "\n",
    "# using the standard scaler to standardize the data\n",
    "scaler = StandardScaler()\n",
    "\n",
    "# separating the train and target features\n",
    "X = df_refined_feed_model[most_important_features].drop('review_scores_rating', axis=1)\n",
    "y = df_refined_feed_model['review_scores_rating']\n",
    "\n",
    "# train and test datasets split\n",
    "X_train, X_test, y_train, y_test = train_test_split(X, y, test_size=0.30, random_state=42)\n",
    "\n",
    "# standardization of the dataset\n",
    "X_train = scaler.fit_transform(X_train)\n",
    "X_test = scaler.transform(X_test)\n",
    "\n",
    "# check the shape of the train and test datasets\n",
    "print(f'features X_train: {len(X_train[1])}\\nfeatures X_test: {len(X_test[1])}')\n",
    "\n",
    "# Learning - XGBoost\n",
    "xgbc = XGBRegressor()\n",
    "xgbc.fit(X_train, y_train)\n",
    "xgbc_pred_train=xgbc.predict(X_train)\n",
    "xgbc_pred_test=xgbc.predict(X_test)\n",
    "\n",
    "# performing crossvalidation test \n",
    "xgscore = np.mean(cross_val_score(estimator=xgbc,\n",
    "                       X=X_train, y=y_train, cv=5))\n",
    "# printing cross validation results\n",
    "print(f'XGBoost cross val score: {xgscore}')\n",
    "\n",
    "# analysing train and test data results\n",
    "train_score_xgbc =  r2_score(y_train, xgbc_pred_train)\n",
    "test_score_xgbc = r2_score(y_test, xgbc_pred_test)\n",
    "# printing r2 scores of training and test\n",
    "print(f'test score: {test_score_xgbc} \\ntrain score: {train_score_xgbc}')\n",
    "\n",
    "# getting the most important features\n",
    "dict_importance = xgbc.get_booster().get_score(importance_type=\"total_gain\")\n",
    "d={}\n",
    "# cleanse the data\n",
    "for index, value in dict_importance.items():\n",
    "    d[X.columns[int(index[1:])]] = value\n",
    "# transforming data to a dataframe\n",
    "most_important_XGBoost_review = pd.DataFrame(d, index=['Total gain']).T\n",
    "most_important_XGBoost_review = most_important_XGBoost_review[['Total gain']].sort_values(ascending=False, by='Total gain')\n",
    "\n",
    "# plot most important features\n",
    "plot_importance(most_important_XGBoost_review, 'Total gain', 'XGBoost Model [Total gain]')"
   ]
  },
  {
   "cell_type": "markdown",
   "metadata": {},
   "source": [
    "## Results\n",
    "\n",
    "### Question 1\n",
    "Which are the 10 most important characteristics to influence the overall review of an acomodation?"
   ]
  },
  {
   "cell_type": "code",
   "execution_count": 17,
   "metadata": {},
   "outputs": [
    {
     "data": {
      "text/html": [
       "<div>\n",
       "<style scoped>\n",
       "    .dataframe tbody tr th:only-of-type {\n",
       "        vertical-align: middle;\n",
       "    }\n",
       "\n",
       "    .dataframe tbody tr th {\n",
       "        vertical-align: top;\n",
       "    }\n",
       "\n",
       "    .dataframe thead th {\n",
       "        text-align: right;\n",
       "    }\n",
       "</style>\n",
       "<table border=\"1\" class=\"dataframe\">\n",
       "  <thead>\n",
       "    <tr style=\"text-align: right;\">\n",
       "      <th></th>\n",
       "      <th>Total gain</th>\n",
       "    </tr>\n",
       "  </thead>\n",
       "  <tbody>\n",
       "    <tr>\n",
       "      <th>reviews_per_month</th>\n",
       "      <td>10454.020508</td>\n",
       "    </tr>\n",
       "    <tr>\n",
       "      <th>review_date_min</th>\n",
       "      <td>5663.754883</td>\n",
       "    </tr>\n",
       "    <tr>\n",
       "      <th>host_since</th>\n",
       "      <td>4235.670410</td>\n",
       "    </tr>\n",
       "    <tr>\n",
       "      <th>review_date_max</th>\n",
       "      <td>4164.976074</td>\n",
       "    </tr>\n",
       "    <tr>\n",
       "      <th>number_of_reviews</th>\n",
       "      <td>3999.412354</td>\n",
       "    </tr>\n",
       "    <tr>\n",
       "      <th>host_total_listings_count</th>\n",
       "      <td>3146.814697</td>\n",
       "    </tr>\n",
       "    <tr>\n",
       "      <th>host_is_superhost_t</th>\n",
       "      <td>2892.630859</td>\n",
       "    </tr>\n",
       "    <tr>\n",
       "      <th>revenue</th>\n",
       "      <td>2478.561523</td>\n",
       "    </tr>\n",
       "    <tr>\n",
       "      <th>host_response_rate</th>\n",
       "      <td>1391.402710</td>\n",
       "    </tr>\n",
       "    <tr>\n",
       "      <th>price_mean_rel</th>\n",
       "      <td>1348.076050</td>\n",
       "    </tr>\n",
       "  </tbody>\n",
       "</table>\n",
       "</div>"
      ],
      "text/plain": [
       "                             Total gain\n",
       "reviews_per_month          10454.020508\n",
       "review_date_min             5663.754883\n",
       "host_since                  4235.670410\n",
       "review_date_max             4164.976074\n",
       "number_of_reviews           3999.412354\n",
       "host_total_listings_count   3146.814697\n",
       "host_is_superhost_t         2892.630859\n",
       "revenue                     2478.561523\n",
       "host_response_rate          1391.402710\n",
       "price_mean_rel              1348.076050"
      ]
     },
     "execution_count": 17,
     "metadata": {},
     "output_type": "execute_result"
    }
   ],
   "source": [
    "most_important_XGBoost = pd.read_csv('datasets/refined/most_important_XGBoost.csv', index_col=0)\n",
    "most_important_XGBoost.iloc[:10]"
   ]
  },
  {
   "cell_type": "markdown",
   "metadata": {},
   "source": [
    "### Question 2\n",
    "What are the general differences between a top rated acomodation and a almost top one?"
   ]
  },
  {
   "cell_type": "code",
   "execution_count": 18,
   "metadata": {},
   "outputs": [],
   "source": [
    "# Creating the feature score_group to further answer the questions\n",
    "df_refined['score_group'] = pd.qcut(df_refined['review_scores_rating'], q=2, labels=['low', 'high'])"
   ]
  },
  {
   "cell_type": "code",
   "execution_count": 19,
   "metadata": {},
   "outputs": [
    {
     "data": {
      "text/html": [
       "<div>\n",
       "<style scoped>\n",
       "    .dataframe tbody tr th:only-of-type {\n",
       "        vertical-align: middle;\n",
       "    }\n",
       "\n",
       "    .dataframe tbody tr th {\n",
       "        vertical-align: top;\n",
       "    }\n",
       "\n",
       "    .dataframe thead th {\n",
       "        text-align: right;\n",
       "    }\n",
       "</style>\n",
       "<table border=\"1\" class=\"dataframe\">\n",
       "  <thead>\n",
       "    <tr style=\"text-align: right;\">\n",
       "      <th></th>\n",
       "      <th>reviews_per_month</th>\n",
       "      <th>review_date_min</th>\n",
       "      <th>host_since</th>\n",
       "      <th>review_date_max</th>\n",
       "      <th>number_of_reviews</th>\n",
       "      <th>host_total_listings_count</th>\n",
       "      <th>host_is_superhost_t</th>\n",
       "      <th>revenue</th>\n",
       "      <th>host_response_rate</th>\n",
       "      <th>price_mean_rel</th>\n",
       "      <th>price_min</th>\n",
       "      <th>review_date_mean</th>\n",
       "      <th>price_min_rel</th>\n",
       "      <th>price_max_rel</th>\n",
       "      <th>host_acceptance_rate</th>\n",
       "      <th>review_scores_rating</th>\n",
       "    </tr>\n",
       "    <tr>\n",
       "      <th>score_group</th>\n",
       "      <th></th>\n",
       "      <th></th>\n",
       "      <th></th>\n",
       "      <th></th>\n",
       "      <th></th>\n",
       "      <th></th>\n",
       "      <th></th>\n",
       "      <th></th>\n",
       "      <th></th>\n",
       "      <th></th>\n",
       "      <th></th>\n",
       "      <th></th>\n",
       "      <th></th>\n",
       "      <th></th>\n",
       "      <th></th>\n",
       "      <th></th>\n",
       "    </tr>\n",
       "  </thead>\n",
       "  <tbody>\n",
       "    <tr>\n",
       "      <th>low</th>\n",
       "      <td>1.04</td>\n",
       "      <td>59.0</td>\n",
       "      <td>2202.0</td>\n",
       "      <td>1150.0</td>\n",
       "      <td>22.0</td>\n",
       "      <td>2.0</td>\n",
       "      <td>0.0</td>\n",
       "      <td>22066.0</td>\n",
       "      <td>100.0</td>\n",
       "      <td>0.565253</td>\n",
       "      <td>105.0</td>\n",
       "      <td>761.942857</td>\n",
       "      <td>0.569389</td>\n",
       "      <td>0.494911</td>\n",
       "      <td>95.0</td>\n",
       "      <td>4.68</td>\n",
       "    </tr>\n",
       "    <tr>\n",
       "      <th>high</th>\n",
       "      <td>0.84</td>\n",
       "      <td>60.0</td>\n",
       "      <td>2261.0</td>\n",
       "      <td>933.0</td>\n",
       "      <td>12.0</td>\n",
       "      <td>1.0</td>\n",
       "      <td>1.0</td>\n",
       "      <td>29837.8</td>\n",
       "      <td>100.0</td>\n",
       "      <td>0.639502</td>\n",
       "      <td>130.0</td>\n",
       "      <td>638.000000</td>\n",
       "      <td>0.683267</td>\n",
       "      <td>0.544562</td>\n",
       "      <td>95.0</td>\n",
       "      <td>5.00</td>\n",
       "    </tr>\n",
       "  </tbody>\n",
       "</table>\n",
       "</div>"
      ],
      "text/plain": [
       "             reviews_per_month  review_date_min  host_since  review_date_max  \\\n",
       "score_group                                                                    \n",
       "low                       1.04             59.0      2202.0           1150.0   \n",
       "high                      0.84             60.0      2261.0            933.0   \n",
       "\n",
       "             number_of_reviews  host_total_listings_count  \\\n",
       "score_group                                                 \n",
       "low                       22.0                        2.0   \n",
       "high                      12.0                        1.0   \n",
       "\n",
       "             host_is_superhost_t  revenue  host_response_rate  price_mean_rel  \\\n",
       "score_group                                                                     \n",
       "low                          0.0  22066.0               100.0        0.565253   \n",
       "high                         1.0  29837.8               100.0        0.639502   \n",
       "\n",
       "             price_min  review_date_mean  price_min_rel  price_max_rel  \\\n",
       "score_group                                                              \n",
       "low              105.0        761.942857       0.569389       0.494911   \n",
       "high             130.0        638.000000       0.683267       0.544562   \n",
       "\n",
       "             host_acceptance_rate  review_scores_rating  \n",
       "score_group                                              \n",
       "low                          95.0                  4.68  \n",
       "high                         95.0                  5.00  "
      ]
     },
     "execution_count": 19,
     "metadata": {},
     "output_type": "execute_result"
    }
   ],
   "source": [
    "df_refined.groupby('score_group')[list(most_important_XGBoost.iloc[:15].index)+['review_scores_rating']].median()"
   ]
  },
  {
   "cell_type": "markdown",
   "metadata": {},
   "source": [
    "The analysis is made based on the median values of each one, so that the outliars do not influence the observations so much.\n",
    "1. **reviews_per_month** - the top acomodatios receives generally less reviews per month than the not so top ones.\n",
    "2. **review_date_min** - there are no huge difference betwwen them.\n",
    "3. **host_since** - the hosts of the top acomodations are in generall hosts for a longer period in AirBnb.\t\n",
    "4. **review_date_max** - the higher ranked acomodations are generally newer than their counterparts.\n",
    "5. **number_of_reviews** - the higher ranked acomodations have less reviews.\n",
    "6. **host_total_listings_count** - the hosts owns less acomodations for the higher ranked listings.\n",
    "7. **revenue** - The revenue related to the top acomodations is higher than the others.\t\n",
    "8. **price_min** - The acomodation price of the top ranked acomodations is higher than the others. \n",
    "9. **host_acceptance_rate**\t- no difference observed\n",
    "10. **host_response_rate** - no difference obeserved\n",
    "11. **price_max_rel** - The acomodation price of the top ranked acomodations is higher than the others. \n",
    "12. **host_is_superhost_t** - Being a superhost is a sign of the most well ranked acomodations.\n"
   ]
  },
  {
   "cell_type": "markdown",
   "metadata": {},
   "source": [
    "### Question 3\n",
    "Which are the main review aspects that influences the overall review score?"
   ]
  },
  {
   "cell_type": "code",
   "execution_count": 22,
   "metadata": {},
   "outputs": [
    {
     "data": {
      "text/html": [
       "<div>\n",
       "<style scoped>\n",
       "    .dataframe tbody tr th:only-of-type {\n",
       "        vertical-align: middle;\n",
       "    }\n",
       "\n",
       "    .dataframe tbody tr th {\n",
       "        vertical-align: top;\n",
       "    }\n",
       "\n",
       "    .dataframe thead th {\n",
       "        text-align: right;\n",
       "    }\n",
       "</style>\n",
       "<table border=\"1\" class=\"dataframe\">\n",
       "  <thead>\n",
       "    <tr style=\"text-align: right;\">\n",
       "      <th></th>\n",
       "      <th>Total gain</th>\n",
       "    </tr>\n",
       "  </thead>\n",
       "  <tbody>\n",
       "    <tr>\n",
       "      <th>review_scores_cleanliness</th>\n",
       "      <td>33697.066406</td>\n",
       "    </tr>\n",
       "    <tr>\n",
       "      <th>review_scores_location</th>\n",
       "      <td>22334.484375</td>\n",
       "    </tr>\n",
       "    <tr>\n",
       "      <th>review_scores_communication</th>\n",
       "      <td>19342.439453</td>\n",
       "    </tr>\n",
       "    <tr>\n",
       "      <th>review_scores_checkin</th>\n",
       "      <td>5142.828613</td>\n",
       "    </tr>\n",
       "  </tbody>\n",
       "</table>\n",
       "</div>"
      ],
      "text/plain": [
       "                               Total gain\n",
       "review_scores_cleanliness    33697.066406\n",
       "review_scores_location       22334.484375\n",
       "review_scores_communication  19342.439453\n",
       "review_scores_checkin         5142.828613"
      ]
     },
     "execution_count": 22,
     "metadata": {},
     "output_type": "execute_result"
    }
   ],
   "source": [
    "most_important_XGBoost_review"
   ]
  },
  {
   "cell_type": "code",
   "execution_count": null,
   "metadata": {},
   "outputs": [],
   "source": []
  }
 ],
 "metadata": {
  "interpreter": {
   "hash": "a2b72ad74ec8b1368a383d0f41ddd77f160c566387e4279ab43f9a0692ac185e"
  },
  "kernelspec": {
   "display_name": "Python 3.9.7 ('base')",
   "language": "python",
   "name": "python3"
  },
  "language_info": {
   "codemirror_mode": {
    "name": "ipython",
    "version": 3
   },
   "file_extension": ".py",
   "mimetype": "text/x-python",
   "name": "python",
   "nbconvert_exporter": "python",
   "pygments_lexer": "ipython3",
   "version": "3.9.7"
  },
  "orig_nbformat": 4
 },
 "nbformat": 4,
 "nbformat_minor": 2
}
